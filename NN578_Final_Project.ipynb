{
  "nbformat": 4,
  "nbformat_minor": 0,
  "metadata": {
    "colab": {
      "provenance": []
    },
    "kernelspec": {
      "name": "python3",
      "display_name": "Python 3"
    },
    "language_info": {
      "name": "python"
    },
    "accelerator": "TPU"
  },
  "cells": [
    {
      "cell_type": "markdown",
      "source": [
        "### Course Name and Number: CSC 578 Neural Network and Deep Learning - SEC 701\n",
        "### Student Name: Mai Ngo\n",
        "### Final Project: Recurrent Neural Network\n",
        "### Date: 11/21/2023"
      ],
      "metadata": {
        "id": "eEEIXpq2eQJt"
      }
    },
    {
      "cell_type": "code",
      "source": [
        "#Mount my Google Drive\n",
        "from google.colab import drive\n",
        "drive.mount(\"/content/drive\")\n",
        "import os\n",
        "directory = '/content/drive/My Drive/Final'\n",
        "os.chdir(directory)\n",
        "\n",
        "#Ensure the files are there (in the folder)\n",
        "!pwd"
      ],
      "metadata": {
        "colab": {
          "base_uri": "https://localhost:8080/"
        },
        "id": "PVTi1jDXhko7",
        "outputId": "16c956e7-c591-4195-80b0-e1c04a4e0f1b"
      },
      "execution_count": 1,
      "outputs": [
        {
          "output_type": "stream",
          "name": "stdout",
          "text": [
            "Mounted at /content/drive\n",
            "/content/drive/My Drive/Final\n"
          ]
        }
      ]
    },
    {
      "cell_type": "code",
      "execution_count": 2,
      "metadata": {
        "id": "eq3ng450eKCc"
      },
      "outputs": [],
      "source": [
        "#TensorFlow and tf.keras\n",
        "import tensorflow as tf\n",
        "import numpy as np\n",
        "import pandas as pd\n",
        "import matplotlib.pyplot as plt\n",
        "from tensorflow import keras\n",
        "from keras.models import Sequential\n",
        "from keras.layers import Dense, Activation, Dropout, Embedding, Conv1D, MaxPooling2D, Flatten\n",
        "from keras import optimizers\n",
        "from keras import regularizers\n",
        "from sklearn.preprocessing import MinMaxScaler"
      ]
    },
    {
      "cell_type": "markdown",
      "source": [
        "### **Read dataset as pandas data frame.**"
      ],
      "metadata": {
        "id": "_xnJ4wNYhg96"
      }
    },
    {
      "cell_type": "code",
      "source": [
        "trainData_original = pd.read_csv('lsst-train.csv')\n",
        "print(f'Original training data: Row - {trainData_original.shape[0]} | Column - {trainData_original.shape[1]}')"
      ],
      "metadata": {
        "id": "H2oOQ6eGf8VS",
        "colab": {
          "base_uri": "https://localhost:8080/"
        },
        "outputId": "e3b4c125-afaf-44b0-9df6-344054b4a1f7"
      },
      "execution_count": 3,
      "outputs": [
        {
          "output_type": "stream",
          "name": "stdout",
          "text": [
            "Original training data: Row - 3356 | Column - 217\n"
          ]
        }
      ]
    },
    {
      "cell_type": "code",
      "source": [
        "trainData_original.head()"
      ],
      "metadata": {
        "id": "rYs6g7Ryf8Y9",
        "colab": {
          "base_uri": "https://localhost:8080/",
          "height": 235
        },
        "outputId": "d181ea27-08b6-4a04-b563-d77487838629"
      },
      "execution_count": 4,
      "outputs": [
        {
          "output_type": "execute_result",
          "data": {
            "text/plain": [
              "     f-1-1     f-1-2     f-1-3    f-1-4    f-1-5     f-1-6     f-1-7  \\\n",
              "0  2.57770  -1.18830  -4.98950  -6.4301  -4.6503  -1.02450   1.90420   \n",
              "1  6.67580  22.54300  44.02700  66.9610  86.0820  96.80400  96.76000   \n",
              "2  0.37554  -3.10860  -0.26009   3.2281  -1.9951   0.12797   0.25844   \n",
              "3  0.51852   0.12078   1.53240   5.5783  11.5340  17.01300  18.97100   \n",
              "4  1.47150   1.44510   2.91330   1.0015  -1.2503   1.55160   1.73170   \n",
              "\n",
              "      f-1-8      f-1-9    f-1-10  ...    f-6-28   f-6-29    f-6-30   f-6-31  \\\n",
              "0   2.48850   1.360500   0.90286  ...  22.36600 -24.7480 -34.21500   7.7464   \n",
              "1  86.49400  69.094000  48.97100  ...  19.26700  28.5110   0.97578 -28.0270   \n",
              "2  -0.25394  -0.091828   2.41440  ...  -4.02610  14.5270  50.00500 -13.8860   \n",
              "3  15.38700   6.685500  -4.07800  ...  23.24700  31.9850  26.62100 -12.2560   \n",
              "4   0.47796   0.539860  -1.71690  ...  -0.18477   3.8533  -5.80000   1.4909   \n",
              "\n",
              "    f-6-32    f-6-33    f-6-34   f-6-35   f-6-36  target  \n",
              "0  -5.8332  -0.71757   8.16160 -29.6940 -27.5700    c-90  \n",
              "1 -18.0720  -4.00020 -43.07500  -4.7283 -43.0070    c-15  \n",
              "2   3.3589   5.00450  -0.47256  -2.7713   1.9379    c-42  \n",
              "3   3.4805  23.80500 -32.36400 -15.1610 -14.4500    c-16  \n",
              "4   2.7581  -3.16650  -0.30058   6.6334   7.3427    c-67  \n",
              "\n",
              "[5 rows x 217 columns]"
            ],
            "text/html": [
              "\n",
              "  <div id=\"df-acd9c82a-7ccf-4e28-bec1-7afa82989695\" class=\"colab-df-container\">\n",
              "    <div>\n",
              "<style scoped>\n",
              "    .dataframe tbody tr th:only-of-type {\n",
              "        vertical-align: middle;\n",
              "    }\n",
              "\n",
              "    .dataframe tbody tr th {\n",
              "        vertical-align: top;\n",
              "    }\n",
              "\n",
              "    .dataframe thead th {\n",
              "        text-align: right;\n",
              "    }\n",
              "</style>\n",
              "<table border=\"1\" class=\"dataframe\">\n",
              "  <thead>\n",
              "    <tr style=\"text-align: right;\">\n",
              "      <th></th>\n",
              "      <th>f-1-1</th>\n",
              "      <th>f-1-2</th>\n",
              "      <th>f-1-3</th>\n",
              "      <th>f-1-4</th>\n",
              "      <th>f-1-5</th>\n",
              "      <th>f-1-6</th>\n",
              "      <th>f-1-7</th>\n",
              "      <th>f-1-8</th>\n",
              "      <th>f-1-9</th>\n",
              "      <th>f-1-10</th>\n",
              "      <th>...</th>\n",
              "      <th>f-6-28</th>\n",
              "      <th>f-6-29</th>\n",
              "      <th>f-6-30</th>\n",
              "      <th>f-6-31</th>\n",
              "      <th>f-6-32</th>\n",
              "      <th>f-6-33</th>\n",
              "      <th>f-6-34</th>\n",
              "      <th>f-6-35</th>\n",
              "      <th>f-6-36</th>\n",
              "      <th>target</th>\n",
              "    </tr>\n",
              "  </thead>\n",
              "  <tbody>\n",
              "    <tr>\n",
              "      <th>0</th>\n",
              "      <td>2.57770</td>\n",
              "      <td>-1.18830</td>\n",
              "      <td>-4.98950</td>\n",
              "      <td>-6.4301</td>\n",
              "      <td>-4.6503</td>\n",
              "      <td>-1.02450</td>\n",
              "      <td>1.90420</td>\n",
              "      <td>2.48850</td>\n",
              "      <td>1.360500</td>\n",
              "      <td>0.90286</td>\n",
              "      <td>...</td>\n",
              "      <td>22.36600</td>\n",
              "      <td>-24.7480</td>\n",
              "      <td>-34.21500</td>\n",
              "      <td>7.7464</td>\n",
              "      <td>-5.8332</td>\n",
              "      <td>-0.71757</td>\n",
              "      <td>8.16160</td>\n",
              "      <td>-29.6940</td>\n",
              "      <td>-27.5700</td>\n",
              "      <td>c-90</td>\n",
              "    </tr>\n",
              "    <tr>\n",
              "      <th>1</th>\n",
              "      <td>6.67580</td>\n",
              "      <td>22.54300</td>\n",
              "      <td>44.02700</td>\n",
              "      <td>66.9610</td>\n",
              "      <td>86.0820</td>\n",
              "      <td>96.80400</td>\n",
              "      <td>96.76000</td>\n",
              "      <td>86.49400</td>\n",
              "      <td>69.094000</td>\n",
              "      <td>48.97100</td>\n",
              "      <td>...</td>\n",
              "      <td>19.26700</td>\n",
              "      <td>28.5110</td>\n",
              "      <td>0.97578</td>\n",
              "      <td>-28.0270</td>\n",
              "      <td>-18.0720</td>\n",
              "      <td>-4.00020</td>\n",
              "      <td>-43.07500</td>\n",
              "      <td>-4.7283</td>\n",
              "      <td>-43.0070</td>\n",
              "      <td>c-15</td>\n",
              "    </tr>\n",
              "    <tr>\n",
              "      <th>2</th>\n",
              "      <td>0.37554</td>\n",
              "      <td>-3.10860</td>\n",
              "      <td>-0.26009</td>\n",
              "      <td>3.2281</td>\n",
              "      <td>-1.9951</td>\n",
              "      <td>0.12797</td>\n",
              "      <td>0.25844</td>\n",
              "      <td>-0.25394</td>\n",
              "      <td>-0.091828</td>\n",
              "      <td>2.41440</td>\n",
              "      <td>...</td>\n",
              "      <td>-4.02610</td>\n",
              "      <td>14.5270</td>\n",
              "      <td>50.00500</td>\n",
              "      <td>-13.8860</td>\n",
              "      <td>3.3589</td>\n",
              "      <td>5.00450</td>\n",
              "      <td>-0.47256</td>\n",
              "      <td>-2.7713</td>\n",
              "      <td>1.9379</td>\n",
              "      <td>c-42</td>\n",
              "    </tr>\n",
              "    <tr>\n",
              "      <th>3</th>\n",
              "      <td>0.51852</td>\n",
              "      <td>0.12078</td>\n",
              "      <td>1.53240</td>\n",
              "      <td>5.5783</td>\n",
              "      <td>11.5340</td>\n",
              "      <td>17.01300</td>\n",
              "      <td>18.97100</td>\n",
              "      <td>15.38700</td>\n",
              "      <td>6.685500</td>\n",
              "      <td>-4.07800</td>\n",
              "      <td>...</td>\n",
              "      <td>23.24700</td>\n",
              "      <td>31.9850</td>\n",
              "      <td>26.62100</td>\n",
              "      <td>-12.2560</td>\n",
              "      <td>3.4805</td>\n",
              "      <td>23.80500</td>\n",
              "      <td>-32.36400</td>\n",
              "      <td>-15.1610</td>\n",
              "      <td>-14.4500</td>\n",
              "      <td>c-16</td>\n",
              "    </tr>\n",
              "    <tr>\n",
              "      <th>4</th>\n",
              "      <td>1.47150</td>\n",
              "      <td>1.44510</td>\n",
              "      <td>2.91330</td>\n",
              "      <td>1.0015</td>\n",
              "      <td>-1.2503</td>\n",
              "      <td>1.55160</td>\n",
              "      <td>1.73170</td>\n",
              "      <td>0.47796</td>\n",
              "      <td>0.539860</td>\n",
              "      <td>-1.71690</td>\n",
              "      <td>...</td>\n",
              "      <td>-0.18477</td>\n",
              "      <td>3.8533</td>\n",
              "      <td>-5.80000</td>\n",
              "      <td>1.4909</td>\n",
              "      <td>2.7581</td>\n",
              "      <td>-3.16650</td>\n",
              "      <td>-0.30058</td>\n",
              "      <td>6.6334</td>\n",
              "      <td>7.3427</td>\n",
              "      <td>c-67</td>\n",
              "    </tr>\n",
              "  </tbody>\n",
              "</table>\n",
              "<p>5 rows × 217 columns</p>\n",
              "</div>\n",
              "    <div class=\"colab-df-buttons\">\n",
              "\n",
              "  <div class=\"colab-df-container\">\n",
              "    <button class=\"colab-df-convert\" onclick=\"convertToInteractive('df-acd9c82a-7ccf-4e28-bec1-7afa82989695')\"\n",
              "            title=\"Convert this dataframe to an interactive table.\"\n",
              "            style=\"display:none;\">\n",
              "\n",
              "  <svg xmlns=\"http://www.w3.org/2000/svg\" height=\"24px\" viewBox=\"0 -960 960 960\">\n",
              "    <path d=\"M120-120v-720h720v720H120Zm60-500h600v-160H180v160Zm220 220h160v-160H400v160Zm0 220h160v-160H400v160ZM180-400h160v-160H180v160Zm440 0h160v-160H620v160ZM180-180h160v-160H180v160Zm440 0h160v-160H620v160Z\"/>\n",
              "  </svg>\n",
              "    </button>\n",
              "\n",
              "  <style>\n",
              "    .colab-df-container {\n",
              "      display:flex;\n",
              "      gap: 12px;\n",
              "    }\n",
              "\n",
              "    .colab-df-convert {\n",
              "      background-color: #E8F0FE;\n",
              "      border: none;\n",
              "      border-radius: 50%;\n",
              "      cursor: pointer;\n",
              "      display: none;\n",
              "      fill: #1967D2;\n",
              "      height: 32px;\n",
              "      padding: 0 0 0 0;\n",
              "      width: 32px;\n",
              "    }\n",
              "\n",
              "    .colab-df-convert:hover {\n",
              "      background-color: #E2EBFA;\n",
              "      box-shadow: 0px 1px 2px rgba(60, 64, 67, 0.3), 0px 1px 3px 1px rgba(60, 64, 67, 0.15);\n",
              "      fill: #174EA6;\n",
              "    }\n",
              "\n",
              "    .colab-df-buttons div {\n",
              "      margin-bottom: 4px;\n",
              "    }\n",
              "\n",
              "    [theme=dark] .colab-df-convert {\n",
              "      background-color: #3B4455;\n",
              "      fill: #D2E3FC;\n",
              "    }\n",
              "\n",
              "    [theme=dark] .colab-df-convert:hover {\n",
              "      background-color: #434B5C;\n",
              "      box-shadow: 0px 1px 3px 1px rgba(0, 0, 0, 0.15);\n",
              "      filter: drop-shadow(0px 1px 2px rgba(0, 0, 0, 0.3));\n",
              "      fill: #FFFFFF;\n",
              "    }\n",
              "  </style>\n",
              "\n",
              "    <script>\n",
              "      const buttonEl =\n",
              "        document.querySelector('#df-acd9c82a-7ccf-4e28-bec1-7afa82989695 button.colab-df-convert');\n",
              "      buttonEl.style.display =\n",
              "        google.colab.kernel.accessAllowed ? 'block' : 'none';\n",
              "\n",
              "      async function convertToInteractive(key) {\n",
              "        const element = document.querySelector('#df-acd9c82a-7ccf-4e28-bec1-7afa82989695');\n",
              "        const dataTable =\n",
              "          await google.colab.kernel.invokeFunction('convertToInteractive',\n",
              "                                                    [key], {});\n",
              "        if (!dataTable) return;\n",
              "\n",
              "        const docLinkHtml = 'Like what you see? Visit the ' +\n",
              "          '<a target=\"_blank\" href=https://colab.research.google.com/notebooks/data_table.ipynb>data table notebook</a>'\n",
              "          + ' to learn more about interactive tables.';\n",
              "        element.innerHTML = '';\n",
              "        dataTable['output_type'] = 'display_data';\n",
              "        await google.colab.output.renderOutput(dataTable, element);\n",
              "        const docLink = document.createElement('div');\n",
              "        docLink.innerHTML = docLinkHtml;\n",
              "        element.appendChild(docLink);\n",
              "      }\n",
              "    </script>\n",
              "  </div>\n",
              "\n",
              "\n",
              "<div id=\"df-194e9ea5-0213-4a17-9a36-aaac2f35645f\">\n",
              "  <button class=\"colab-df-quickchart\" onclick=\"quickchart('df-194e9ea5-0213-4a17-9a36-aaac2f35645f')\"\n",
              "            title=\"Suggest charts\"\n",
              "            style=\"display:none;\">\n",
              "\n",
              "<svg xmlns=\"http://www.w3.org/2000/svg\" height=\"24px\"viewBox=\"0 0 24 24\"\n",
              "     width=\"24px\">\n",
              "    <g>\n",
              "        <path d=\"M19 3H5c-1.1 0-2 .9-2 2v14c0 1.1.9 2 2 2h14c1.1 0 2-.9 2-2V5c0-1.1-.9-2-2-2zM9 17H7v-7h2v7zm4 0h-2V7h2v10zm4 0h-2v-4h2v4z\"/>\n",
              "    </g>\n",
              "</svg>\n",
              "  </button>\n",
              "\n",
              "<style>\n",
              "  .colab-df-quickchart {\n",
              "      --bg-color: #E8F0FE;\n",
              "      --fill-color: #1967D2;\n",
              "      --hover-bg-color: #E2EBFA;\n",
              "      --hover-fill-color: #174EA6;\n",
              "      --disabled-fill-color: #AAA;\n",
              "      --disabled-bg-color: #DDD;\n",
              "  }\n",
              "\n",
              "  [theme=dark] .colab-df-quickchart {\n",
              "      --bg-color: #3B4455;\n",
              "      --fill-color: #D2E3FC;\n",
              "      --hover-bg-color: #434B5C;\n",
              "      --hover-fill-color: #FFFFFF;\n",
              "      --disabled-bg-color: #3B4455;\n",
              "      --disabled-fill-color: #666;\n",
              "  }\n",
              "\n",
              "  .colab-df-quickchart {\n",
              "    background-color: var(--bg-color);\n",
              "    border: none;\n",
              "    border-radius: 50%;\n",
              "    cursor: pointer;\n",
              "    display: none;\n",
              "    fill: var(--fill-color);\n",
              "    height: 32px;\n",
              "    padding: 0;\n",
              "    width: 32px;\n",
              "  }\n",
              "\n",
              "  .colab-df-quickchart:hover {\n",
              "    background-color: var(--hover-bg-color);\n",
              "    box-shadow: 0 1px 2px rgba(60, 64, 67, 0.3), 0 1px 3px 1px rgba(60, 64, 67, 0.15);\n",
              "    fill: var(--button-hover-fill-color);\n",
              "  }\n",
              "\n",
              "  .colab-df-quickchart-complete:disabled,\n",
              "  .colab-df-quickchart-complete:disabled:hover {\n",
              "    background-color: var(--disabled-bg-color);\n",
              "    fill: var(--disabled-fill-color);\n",
              "    box-shadow: none;\n",
              "  }\n",
              "\n",
              "  .colab-df-spinner {\n",
              "    border: 2px solid var(--fill-color);\n",
              "    border-color: transparent;\n",
              "    border-bottom-color: var(--fill-color);\n",
              "    animation:\n",
              "      spin 1s steps(1) infinite;\n",
              "  }\n",
              "\n",
              "  @keyframes spin {\n",
              "    0% {\n",
              "      border-color: transparent;\n",
              "      border-bottom-color: var(--fill-color);\n",
              "      border-left-color: var(--fill-color);\n",
              "    }\n",
              "    20% {\n",
              "      border-color: transparent;\n",
              "      border-left-color: var(--fill-color);\n",
              "      border-top-color: var(--fill-color);\n",
              "    }\n",
              "    30% {\n",
              "      border-color: transparent;\n",
              "      border-left-color: var(--fill-color);\n",
              "      border-top-color: var(--fill-color);\n",
              "      border-right-color: var(--fill-color);\n",
              "    }\n",
              "    40% {\n",
              "      border-color: transparent;\n",
              "      border-right-color: var(--fill-color);\n",
              "      border-top-color: var(--fill-color);\n",
              "    }\n",
              "    60% {\n",
              "      border-color: transparent;\n",
              "      border-right-color: var(--fill-color);\n",
              "    }\n",
              "    80% {\n",
              "      border-color: transparent;\n",
              "      border-right-color: var(--fill-color);\n",
              "      border-bottom-color: var(--fill-color);\n",
              "    }\n",
              "    90% {\n",
              "      border-color: transparent;\n",
              "      border-bottom-color: var(--fill-color);\n",
              "    }\n",
              "  }\n",
              "</style>\n",
              "\n",
              "  <script>\n",
              "    async function quickchart(key) {\n",
              "      const quickchartButtonEl =\n",
              "        document.querySelector('#' + key + ' button');\n",
              "      quickchartButtonEl.disabled = true;  // To prevent multiple clicks.\n",
              "      quickchartButtonEl.classList.add('colab-df-spinner');\n",
              "      try {\n",
              "        const charts = await google.colab.kernel.invokeFunction(\n",
              "            'suggestCharts', [key], {});\n",
              "      } catch (error) {\n",
              "        console.error('Error during call to suggestCharts:', error);\n",
              "      }\n",
              "      quickchartButtonEl.classList.remove('colab-df-spinner');\n",
              "      quickchartButtonEl.classList.add('colab-df-quickchart-complete');\n",
              "    }\n",
              "    (() => {\n",
              "      let quickchartButtonEl =\n",
              "        document.querySelector('#df-194e9ea5-0213-4a17-9a36-aaac2f35645f button');\n",
              "      quickchartButtonEl.style.display =\n",
              "        google.colab.kernel.accessAllowed ? 'block' : 'none';\n",
              "    })();\n",
              "  </script>\n",
              "</div>\n",
              "    </div>\n",
              "  </div>\n"
            ]
          },
          "metadata": {},
          "execution_count": 4
        }
      ]
    },
    {
      "cell_type": "code",
      "source": [
        "testData = pd.read_csv('lsst-test.csv')\n",
        "print(f'Testing data: Row - {testData.shape[0]} | Column - {testData.shape[1]}')"
      ],
      "metadata": {
        "id": "Z-M5UpDSf8cH",
        "colab": {
          "base_uri": "https://localhost:8080/"
        },
        "outputId": "71f64bd5-51f3-42c7-bb09-c1e4d9859c54"
      },
      "execution_count": 5,
      "outputs": [
        {
          "output_type": "stream",
          "name": "stdout",
          "text": [
            "Testing data: Row - 1439 | Column - 216\n"
          ]
        }
      ]
    },
    {
      "cell_type": "code",
      "source": [
        "testData.head()"
      ],
      "metadata": {
        "id": "1dMjLd_Sf8ft",
        "colab": {
          "base_uri": "https://localhost:8080/",
          "height": 235
        },
        "outputId": "6e4f9c0f-2ff5-4b9a-f3b7-3217e768d5e8"
      },
      "execution_count": 6,
      "outputs": [
        {
          "output_type": "execute_result",
          "data": {
            "text/plain": [
              "       f-1-1    f-1-2    f-1-3   f-1-4    f-1-5    f-1-6    f-1-7     f-1-8  \\\n",
              "0  25.575000  25.5650   6.8052 -26.012 -55.1290 -62.0750 -43.3400 -14.26500   \n",
              "1   2.432400  10.4920  16.6900  14.609   3.8112  -8.9224 -15.1370 -11.82400   \n",
              "2  -0.166710  -1.0756  -0.8531   1.626  -1.8959   2.4717  -0.2629  -1.43750   \n",
              "3  -4.800300  -3.5558  -5.2497 -10.011 -10.9800  -3.5785   4.9622   2.28200   \n",
              "4  -0.048579 -11.9320 -25.6890 -35.259 -36.0600 -27.6460 -13.9240  -0.79703   \n",
              "\n",
              "      f-1-9   f-1-10  ...    f-6-27    f-6-28   f-6-29   f-6-30   f-6-31  \\\n",
              "0   4.03600   2.8128  ...  114.9600  116.3700  69.0540  11.8250  29.5960   \n",
              "1  -3.60240   2.0792  ...   16.7950    3.3646   5.7902  52.7540 -19.5210   \n",
              "2   0.89766  -2.4570  ...   -3.3971   -8.2973   8.8071  -3.6586  -6.4716   \n",
              "3 -11.07200 -17.1180  ...    2.9662   -6.1161 -34.6170 -96.5080 -94.9050   \n",
              "4   7.31190   9.8219  ...   63.1690   64.7760  53.0120 -83.1160 -50.6480   \n",
              "\n",
              "     f-6-32   f-6-33   f-6-34  f-6-35    f-6-36  \n",
              "0  55.14500   1.0701 -31.4420  20.914   39.9590  \n",
              "1  -9.35210  63.4920 -17.8800 -40.938    6.2865  \n",
              "2   0.87079   2.6530   2.2138  -1.323   -2.1806  \n",
              "3  -8.84960  48.7190 -15.2810 -15.786   34.8360  \n",
              "4  79.74300 -16.5700  74.2040  72.036  100.2200  \n",
              "\n",
              "[5 rows x 216 columns]"
            ],
            "text/html": [
              "\n",
              "  <div id=\"df-1351ed84-2811-4057-b277-ac52a96ca7ee\" class=\"colab-df-container\">\n",
              "    <div>\n",
              "<style scoped>\n",
              "    .dataframe tbody tr th:only-of-type {\n",
              "        vertical-align: middle;\n",
              "    }\n",
              "\n",
              "    .dataframe tbody tr th {\n",
              "        vertical-align: top;\n",
              "    }\n",
              "\n",
              "    .dataframe thead th {\n",
              "        text-align: right;\n",
              "    }\n",
              "</style>\n",
              "<table border=\"1\" class=\"dataframe\">\n",
              "  <thead>\n",
              "    <tr style=\"text-align: right;\">\n",
              "      <th></th>\n",
              "      <th>f-1-1</th>\n",
              "      <th>f-1-2</th>\n",
              "      <th>f-1-3</th>\n",
              "      <th>f-1-4</th>\n",
              "      <th>f-1-5</th>\n",
              "      <th>f-1-6</th>\n",
              "      <th>f-1-7</th>\n",
              "      <th>f-1-8</th>\n",
              "      <th>f-1-9</th>\n",
              "      <th>f-1-10</th>\n",
              "      <th>...</th>\n",
              "      <th>f-6-27</th>\n",
              "      <th>f-6-28</th>\n",
              "      <th>f-6-29</th>\n",
              "      <th>f-6-30</th>\n",
              "      <th>f-6-31</th>\n",
              "      <th>f-6-32</th>\n",
              "      <th>f-6-33</th>\n",
              "      <th>f-6-34</th>\n",
              "      <th>f-6-35</th>\n",
              "      <th>f-6-36</th>\n",
              "    </tr>\n",
              "  </thead>\n",
              "  <tbody>\n",
              "    <tr>\n",
              "      <th>0</th>\n",
              "      <td>25.575000</td>\n",
              "      <td>25.5650</td>\n",
              "      <td>6.8052</td>\n",
              "      <td>-26.012</td>\n",
              "      <td>-55.1290</td>\n",
              "      <td>-62.0750</td>\n",
              "      <td>-43.3400</td>\n",
              "      <td>-14.26500</td>\n",
              "      <td>4.03600</td>\n",
              "      <td>2.8128</td>\n",
              "      <td>...</td>\n",
              "      <td>114.9600</td>\n",
              "      <td>116.3700</td>\n",
              "      <td>69.0540</td>\n",
              "      <td>11.8250</td>\n",
              "      <td>29.5960</td>\n",
              "      <td>55.14500</td>\n",
              "      <td>1.0701</td>\n",
              "      <td>-31.4420</td>\n",
              "      <td>20.914</td>\n",
              "      <td>39.9590</td>\n",
              "    </tr>\n",
              "    <tr>\n",
              "      <th>1</th>\n",
              "      <td>2.432400</td>\n",
              "      <td>10.4920</td>\n",
              "      <td>16.6900</td>\n",
              "      <td>14.609</td>\n",
              "      <td>3.8112</td>\n",
              "      <td>-8.9224</td>\n",
              "      <td>-15.1370</td>\n",
              "      <td>-11.82400</td>\n",
              "      <td>-3.60240</td>\n",
              "      <td>2.0792</td>\n",
              "      <td>...</td>\n",
              "      <td>16.7950</td>\n",
              "      <td>3.3646</td>\n",
              "      <td>5.7902</td>\n",
              "      <td>52.7540</td>\n",
              "      <td>-19.5210</td>\n",
              "      <td>-9.35210</td>\n",
              "      <td>63.4920</td>\n",
              "      <td>-17.8800</td>\n",
              "      <td>-40.938</td>\n",
              "      <td>6.2865</td>\n",
              "    </tr>\n",
              "    <tr>\n",
              "      <th>2</th>\n",
              "      <td>-0.166710</td>\n",
              "      <td>-1.0756</td>\n",
              "      <td>-0.8531</td>\n",
              "      <td>1.626</td>\n",
              "      <td>-1.8959</td>\n",
              "      <td>2.4717</td>\n",
              "      <td>-0.2629</td>\n",
              "      <td>-1.43750</td>\n",
              "      <td>0.89766</td>\n",
              "      <td>-2.4570</td>\n",
              "      <td>...</td>\n",
              "      <td>-3.3971</td>\n",
              "      <td>-8.2973</td>\n",
              "      <td>8.8071</td>\n",
              "      <td>-3.6586</td>\n",
              "      <td>-6.4716</td>\n",
              "      <td>0.87079</td>\n",
              "      <td>2.6530</td>\n",
              "      <td>2.2138</td>\n",
              "      <td>-1.323</td>\n",
              "      <td>-2.1806</td>\n",
              "    </tr>\n",
              "    <tr>\n",
              "      <th>3</th>\n",
              "      <td>-4.800300</td>\n",
              "      <td>-3.5558</td>\n",
              "      <td>-5.2497</td>\n",
              "      <td>-10.011</td>\n",
              "      <td>-10.9800</td>\n",
              "      <td>-3.5785</td>\n",
              "      <td>4.9622</td>\n",
              "      <td>2.28200</td>\n",
              "      <td>-11.07200</td>\n",
              "      <td>-17.1180</td>\n",
              "      <td>...</td>\n",
              "      <td>2.9662</td>\n",
              "      <td>-6.1161</td>\n",
              "      <td>-34.6170</td>\n",
              "      <td>-96.5080</td>\n",
              "      <td>-94.9050</td>\n",
              "      <td>-8.84960</td>\n",
              "      <td>48.7190</td>\n",
              "      <td>-15.2810</td>\n",
              "      <td>-15.786</td>\n",
              "      <td>34.8360</td>\n",
              "    </tr>\n",
              "    <tr>\n",
              "      <th>4</th>\n",
              "      <td>-0.048579</td>\n",
              "      <td>-11.9320</td>\n",
              "      <td>-25.6890</td>\n",
              "      <td>-35.259</td>\n",
              "      <td>-36.0600</td>\n",
              "      <td>-27.6460</td>\n",
              "      <td>-13.9240</td>\n",
              "      <td>-0.79703</td>\n",
              "      <td>7.31190</td>\n",
              "      <td>9.8219</td>\n",
              "      <td>...</td>\n",
              "      <td>63.1690</td>\n",
              "      <td>64.7760</td>\n",
              "      <td>53.0120</td>\n",
              "      <td>-83.1160</td>\n",
              "      <td>-50.6480</td>\n",
              "      <td>79.74300</td>\n",
              "      <td>-16.5700</td>\n",
              "      <td>74.2040</td>\n",
              "      <td>72.036</td>\n",
              "      <td>100.2200</td>\n",
              "    </tr>\n",
              "  </tbody>\n",
              "</table>\n",
              "<p>5 rows × 216 columns</p>\n",
              "</div>\n",
              "    <div class=\"colab-df-buttons\">\n",
              "\n",
              "  <div class=\"colab-df-container\">\n",
              "    <button class=\"colab-df-convert\" onclick=\"convertToInteractive('df-1351ed84-2811-4057-b277-ac52a96ca7ee')\"\n",
              "            title=\"Convert this dataframe to an interactive table.\"\n",
              "            style=\"display:none;\">\n",
              "\n",
              "  <svg xmlns=\"http://www.w3.org/2000/svg\" height=\"24px\" viewBox=\"0 -960 960 960\">\n",
              "    <path d=\"M120-120v-720h720v720H120Zm60-500h600v-160H180v160Zm220 220h160v-160H400v160Zm0 220h160v-160H400v160ZM180-400h160v-160H180v160Zm440 0h160v-160H620v160ZM180-180h160v-160H180v160Zm440 0h160v-160H620v160Z\"/>\n",
              "  </svg>\n",
              "    </button>\n",
              "\n",
              "  <style>\n",
              "    .colab-df-container {\n",
              "      display:flex;\n",
              "      gap: 12px;\n",
              "    }\n",
              "\n",
              "    .colab-df-convert {\n",
              "      background-color: #E8F0FE;\n",
              "      border: none;\n",
              "      border-radius: 50%;\n",
              "      cursor: pointer;\n",
              "      display: none;\n",
              "      fill: #1967D2;\n",
              "      height: 32px;\n",
              "      padding: 0 0 0 0;\n",
              "      width: 32px;\n",
              "    }\n",
              "\n",
              "    .colab-df-convert:hover {\n",
              "      background-color: #E2EBFA;\n",
              "      box-shadow: 0px 1px 2px rgba(60, 64, 67, 0.3), 0px 1px 3px 1px rgba(60, 64, 67, 0.15);\n",
              "      fill: #174EA6;\n",
              "    }\n",
              "\n",
              "    .colab-df-buttons div {\n",
              "      margin-bottom: 4px;\n",
              "    }\n",
              "\n",
              "    [theme=dark] .colab-df-convert {\n",
              "      background-color: #3B4455;\n",
              "      fill: #D2E3FC;\n",
              "    }\n",
              "\n",
              "    [theme=dark] .colab-df-convert:hover {\n",
              "      background-color: #434B5C;\n",
              "      box-shadow: 0px 1px 3px 1px rgba(0, 0, 0, 0.15);\n",
              "      filter: drop-shadow(0px 1px 2px rgba(0, 0, 0, 0.3));\n",
              "      fill: #FFFFFF;\n",
              "    }\n",
              "  </style>\n",
              "\n",
              "    <script>\n",
              "      const buttonEl =\n",
              "        document.querySelector('#df-1351ed84-2811-4057-b277-ac52a96ca7ee button.colab-df-convert');\n",
              "      buttonEl.style.display =\n",
              "        google.colab.kernel.accessAllowed ? 'block' : 'none';\n",
              "\n",
              "      async function convertToInteractive(key) {\n",
              "        const element = document.querySelector('#df-1351ed84-2811-4057-b277-ac52a96ca7ee');\n",
              "        const dataTable =\n",
              "          await google.colab.kernel.invokeFunction('convertToInteractive',\n",
              "                                                    [key], {});\n",
              "        if (!dataTable) return;\n",
              "\n",
              "        const docLinkHtml = 'Like what you see? Visit the ' +\n",
              "          '<a target=\"_blank\" href=https://colab.research.google.com/notebooks/data_table.ipynb>data table notebook</a>'\n",
              "          + ' to learn more about interactive tables.';\n",
              "        element.innerHTML = '';\n",
              "        dataTable['output_type'] = 'display_data';\n",
              "        await google.colab.output.renderOutput(dataTable, element);\n",
              "        const docLink = document.createElement('div');\n",
              "        docLink.innerHTML = docLinkHtml;\n",
              "        element.appendChild(docLink);\n",
              "      }\n",
              "    </script>\n",
              "  </div>\n",
              "\n",
              "\n",
              "<div id=\"df-71f3bc48-7bb8-4b31-a1bd-d5f1b1bac4bd\">\n",
              "  <button class=\"colab-df-quickchart\" onclick=\"quickchart('df-71f3bc48-7bb8-4b31-a1bd-d5f1b1bac4bd')\"\n",
              "            title=\"Suggest charts\"\n",
              "            style=\"display:none;\">\n",
              "\n",
              "<svg xmlns=\"http://www.w3.org/2000/svg\" height=\"24px\"viewBox=\"0 0 24 24\"\n",
              "     width=\"24px\">\n",
              "    <g>\n",
              "        <path d=\"M19 3H5c-1.1 0-2 .9-2 2v14c0 1.1.9 2 2 2h14c1.1 0 2-.9 2-2V5c0-1.1-.9-2-2-2zM9 17H7v-7h2v7zm4 0h-2V7h2v10zm4 0h-2v-4h2v4z\"/>\n",
              "    </g>\n",
              "</svg>\n",
              "  </button>\n",
              "\n",
              "<style>\n",
              "  .colab-df-quickchart {\n",
              "      --bg-color: #E8F0FE;\n",
              "      --fill-color: #1967D2;\n",
              "      --hover-bg-color: #E2EBFA;\n",
              "      --hover-fill-color: #174EA6;\n",
              "      --disabled-fill-color: #AAA;\n",
              "      --disabled-bg-color: #DDD;\n",
              "  }\n",
              "\n",
              "  [theme=dark] .colab-df-quickchart {\n",
              "      --bg-color: #3B4455;\n",
              "      --fill-color: #D2E3FC;\n",
              "      --hover-bg-color: #434B5C;\n",
              "      --hover-fill-color: #FFFFFF;\n",
              "      --disabled-bg-color: #3B4455;\n",
              "      --disabled-fill-color: #666;\n",
              "  }\n",
              "\n",
              "  .colab-df-quickchart {\n",
              "    background-color: var(--bg-color);\n",
              "    border: none;\n",
              "    border-radius: 50%;\n",
              "    cursor: pointer;\n",
              "    display: none;\n",
              "    fill: var(--fill-color);\n",
              "    height: 32px;\n",
              "    padding: 0;\n",
              "    width: 32px;\n",
              "  }\n",
              "\n",
              "  .colab-df-quickchart:hover {\n",
              "    background-color: var(--hover-bg-color);\n",
              "    box-shadow: 0 1px 2px rgba(60, 64, 67, 0.3), 0 1px 3px 1px rgba(60, 64, 67, 0.15);\n",
              "    fill: var(--button-hover-fill-color);\n",
              "  }\n",
              "\n",
              "  .colab-df-quickchart-complete:disabled,\n",
              "  .colab-df-quickchart-complete:disabled:hover {\n",
              "    background-color: var(--disabled-bg-color);\n",
              "    fill: var(--disabled-fill-color);\n",
              "    box-shadow: none;\n",
              "  }\n",
              "\n",
              "  .colab-df-spinner {\n",
              "    border: 2px solid var(--fill-color);\n",
              "    border-color: transparent;\n",
              "    border-bottom-color: var(--fill-color);\n",
              "    animation:\n",
              "      spin 1s steps(1) infinite;\n",
              "  }\n",
              "\n",
              "  @keyframes spin {\n",
              "    0% {\n",
              "      border-color: transparent;\n",
              "      border-bottom-color: var(--fill-color);\n",
              "      border-left-color: var(--fill-color);\n",
              "    }\n",
              "    20% {\n",
              "      border-color: transparent;\n",
              "      border-left-color: var(--fill-color);\n",
              "      border-top-color: var(--fill-color);\n",
              "    }\n",
              "    30% {\n",
              "      border-color: transparent;\n",
              "      border-left-color: var(--fill-color);\n",
              "      border-top-color: var(--fill-color);\n",
              "      border-right-color: var(--fill-color);\n",
              "    }\n",
              "    40% {\n",
              "      border-color: transparent;\n",
              "      border-right-color: var(--fill-color);\n",
              "      border-top-color: var(--fill-color);\n",
              "    }\n",
              "    60% {\n",
              "      border-color: transparent;\n",
              "      border-right-color: var(--fill-color);\n",
              "    }\n",
              "    80% {\n",
              "      border-color: transparent;\n",
              "      border-right-color: var(--fill-color);\n",
              "      border-bottom-color: var(--fill-color);\n",
              "    }\n",
              "    90% {\n",
              "      border-color: transparent;\n",
              "      border-bottom-color: var(--fill-color);\n",
              "    }\n",
              "  }\n",
              "</style>\n",
              "\n",
              "  <script>\n",
              "    async function quickchart(key) {\n",
              "      const quickchartButtonEl =\n",
              "        document.querySelector('#' + key + ' button');\n",
              "      quickchartButtonEl.disabled = true;  // To prevent multiple clicks.\n",
              "      quickchartButtonEl.classList.add('colab-df-spinner');\n",
              "      try {\n",
              "        const charts = await google.colab.kernel.invokeFunction(\n",
              "            'suggestCharts', [key], {});\n",
              "      } catch (error) {\n",
              "        console.error('Error during call to suggestCharts:', error);\n",
              "      }\n",
              "      quickchartButtonEl.classList.remove('colab-df-spinner');\n",
              "      quickchartButtonEl.classList.add('colab-df-quickchart-complete');\n",
              "    }\n",
              "    (() => {\n",
              "      let quickchartButtonEl =\n",
              "        document.querySelector('#df-71f3bc48-7bb8-4b31-a1bd-d5f1b1bac4bd button');\n",
              "      quickchartButtonEl.style.display =\n",
              "        google.colab.kernel.accessAllowed ? 'block' : 'none';\n",
              "    })();\n",
              "  </script>\n",
              "</div>\n",
              "    </div>\n",
              "  </div>\n"
            ]
          },
          "metadata": {},
          "execution_count": 6
        }
      ]
    },
    {
      "cell_type": "markdown",
      "source": [
        "### **Subset training data without 'target column'.**"
      ],
      "metadata": {
        "id": "ByF1g4pV8NCy"
      }
    },
    {
      "cell_type": "code",
      "source": [
        "trainData = trainData_original.drop(columns=['target'])\n",
        "print(f'Training data: Row - {trainData.shape[0]} | Column - {trainData.shape[1]}')"
      ],
      "metadata": {
        "colab": {
          "base_uri": "https://localhost:8080/"
        },
        "id": "Ew1fQ3Rr8gGQ",
        "outputId": "6cda7cab-ad54-417e-eb95-dc76ba6f8eca"
      },
      "execution_count": 7,
      "outputs": [
        {
          "output_type": "stream",
          "name": "stdout",
          "text": [
            "Training data: Row - 3356 | Column - 216\n"
          ]
        }
      ]
    },
    {
      "cell_type": "markdown",
      "source": [
        "### **Process 'target' column in trainData: Convert to integers.**\n",
        "#### Tagret now will be in separate column."
      ],
      "metadata": {
        "id": "flB399s4jtSy"
      }
    },
    {
      "cell_type": "markdown",
      "source": [
        "Plot the distribution of 'target' variable --> There is **DATA IMBALANCE** issue. --> Will circle back to this below."
      ],
      "metadata": {
        "id": "iA6HU5BLhORU"
      }
    },
    {
      "cell_type": "code",
      "source": [
        "#Get unique target values and associated count.\n",
        "target_uniqueCounts = trainData_original['target'].value_counts()\n",
        "plt.bar(target_uniqueCounts.index, target_uniqueCounts.values, color='palevioletred')\n",
        "\n",
        "for i, v in enumerate(target_uniqueCounts.values):\n",
        "    plt.text(i, v + 0.1, str(v), ha='center', va='bottom')\n",
        "\n",
        "plt.xlabel('Target Values')\n",
        "plt.ylabel('Frequency')\n",
        "plt.title('Frequency Count of Each Target Value')\n",
        "plt.show()"
      ],
      "metadata": {
        "colab": {
          "base_uri": "https://localhost:8080/",
          "height": 472
        },
        "id": "9UtrYwjGl1D9",
        "outputId": "fb3b44db-d440-49a9-cb45-56da09d36e60"
      },
      "execution_count": 8,
      "outputs": [
        {
          "output_type": "display_data",
          "data": {
            "text/plain": [
              "<Figure size 640x480 with 1 Axes>"
            ],
            "image/png": "[encoded data removed]"
          },
          "metadata": {}
        }
      ]
    },
    {
      "cell_type": "code",
      "source": [
        "target = trainData_original['target']\n",
        "#Get unique target values.\n",
        "uniqueTargets = trainData_original['target'].unique()\n",
        "#Sort unique values and create a mapping. For example, 'c-15' --> 0, 'c-16' --> 1, and so on.\n",
        "targetInteger = {target: index for index, target in enumerate(sorted(uniqueTargets))}\n",
        "print(f'Target original values - converted integers: {targetInteger}')"
      ],
      "metadata": {
        "id": "avKTY3Ygf8mw",
        "colab": {
          "base_uri": "https://localhost:8080/"
        },
        "outputId": "d1706fc9-5f82-48d9-dbd3-06f3c1baa6c8"
      },
      "execution_count": 9,
      "outputs": [
        {
          "output_type": "stream",
          "name": "stdout",
          "text": [
            "Target original values - converted integers: {'c-15': 0, 'c-16': 1, 'c-42': 2, 'c-52': 3, 'c-62': 4, 'c-65': 5, 'c-67': 6, 'c-88': 7, 'c-90': 8, 'c-92': 9, 'c-95': 10}\n"
          ]
        }
      ]
    },
    {
      "cell_type": "code",
      "source": [
        "#Replace with new integer values.\n",
        "target = target.map(targetInteger)\n",
        "#Reshape the new integer-target column (to (-1, 1)) to ensure a numpy column vector/array.\n",
        "target = target.values.reshape(-1,1)\n",
        "print(f'Shape of target columns: {target.shape}')\n",
        "print('Interger target column:')\n",
        "print(target)"
      ],
      "metadata": {
        "colab": {
          "base_uri": "https://localhost:8080/"
        },
        "id": "bkp4o9JJ9k7K",
        "outputId": "d5ba3517-3bdb-4f16-bd0a-9b22e49521b0"
      },
      "execution_count": 10,
      "outputs": [
        {
          "output_type": "stream",
          "name": "stdout",
          "text": [
            "Shape of target columns: (3356, 1)\n",
            "Interger target column:\n",
            "[[8]\n",
            " [0]\n",
            " [2]\n",
            " ...\n",
            " [4]\n",
            " [2]\n",
            " [8]]\n"
          ]
        }
      ]
    },
    {
      "cell_type": "markdown",
      "source": [
        "### **Reshape the predictors (216 X variables).**\n",
        "### (-1, timesteps, features) | (-1, 6, 36) given 6 for timesteps, 36 for features."
      ],
      "metadata": {
        "id": "2rUvv2_Y_wYV"
      }
    },
    {
      "cell_type": "code",
      "source": [
        "timeSteps = 6\n",
        "features = 36\n",
        "#Get Numpy representation of the training data.\n",
        "X = trainData.values\n",
        "#Reshape the predictors.\n",
        "X = X.reshape(-1, timeSteps, features)\n",
        "print(f'Training data - after reshape: {X.shape}')\n",
        "print(f'First row/observation shape: {X[0].shape}')\n",
        "print('First row/observation after reshape:')\n",
        "print(X[0])"
      ],
      "metadata": {
        "colab": {
          "base_uri": "https://localhost:8080/"
        },
        "id": "irosOEB_ABKj",
        "outputId": "1a0909e9-a351-4272-c80c-9f3aaa8f64ac"
      },
      "execution_count": 11,
      "outputs": [
        {
          "output_type": "stream",
          "name": "stdout",
          "text": [
            "Training data - after reshape: (3356, 6, 36)\n",
            "First row/observation shape: (6, 36)\n",
            "First row/observation after reshape:\n",
            "[[ 2.5777e+00 -1.1883e+00 -4.9895e+00 -6.4301e+00 -4.6503e+00 -1.0245e+00\n",
            "   1.9042e+00  2.4885e+00  1.3605e+00  9.0286e-01  3.1419e+00  7.7968e+00\n",
            "   1.2209e+01  1.3355e+01  1.0328e+01  5.1675e+00  1.2139e+00  3.0111e-01\n",
            "   1.1921e+00  7.1124e-01 -3.2709e+00 -9.5445e+00 -1.4085e+01 -1.3204e+01\n",
            "  -6.8397e+00  8.3864e-01  4.2475e+00  6.0407e-01 -7.7566e+00 -1.4862e+01\n",
            "  -1.5345e+01 -8.2771e+00  2.2537e+00  1.0123e+01  1.1388e+01  6.6385e+00]\n",
            " [-1.6783e+00 -3.4445e+00 -3.0357e+00  2.8849e-02  3.2445e+00  3.0960e+00\n",
            "  -1.0083e+00 -4.9157e+00 -2.6612e+00  7.8961e+00  2.2082e+01  3.1429e+01\n",
            "   3.0398e+01  2.0788e+01  9.8657e+00  4.1723e+00  4.7205e+00  7.4999e+00\n",
            "   7.9778e+00  4.9950e+00  8.7241e-01 -1.4524e+00 -1.0554e+00  7.2462e-01\n",
            "   1.9072e+00  1.4553e+00 -3.5752e-01 -2.5367e+00 -4.0769e+00 -4.3687e+00\n",
            "  -3.3639e+00 -1.5809e+00  1.3014e-01  1.0636e+00  1.0626e+00  5.2237e-01]\n",
            " [ 3.0895e-01 -7.5633e+00 -6.4092e+00 -6.2751e+00 -2.5259e+00  1.2517e+01\n",
            "  -3.5262e+00 -1.2340e+01  4.8510e+01  7.7961e+01  3.2540e+01  1.9781e+01\n",
            "   3.5803e+01  2.6319e+01  2.1956e+01  2.6573e+01  2.6179e+01  2.7310e+01\n",
            "   2.0643e+01  1.4694e+01  1.7646e+01  9.2831e+00 -4.1602e+00 -2.3176e+00\n",
            "   2.9454e+00 -5.4308e-01 -8.8400e-01  3.8689e+00  1.6256e+00 -7.8459e-01\n",
            "   4.8578e+00  6.3055e+00  1.2869e+00  3.6880e-01  1.7097e+00  7.9693e-01]\n",
            " [ 1.5562e+00  8.6533e+00  1.5291e+00 -5.6143e+00 -7.0934e-02 -5.1963e+00\n",
            "  -8.5016e+00  1.3622e+01  1.7048e+01 -3.8787e+00  2.2403e+01  7.7084e+01\n",
            "   7.2197e+01  2.8861e+01  1.9434e+01  2.9741e+01  2.1221e+01  1.0880e+01\n",
            "   1.5025e+01  1.1832e+01 -2.3925e+00 -1.9213e+00  8.3334e+00  4.0946e+00\n",
            "  -3.9100e+00  9.8624e-01  6.4407e+00  2.8957e+00 -3.8927e+00 -9.1483e+00\n",
            "  -8.9508e+00 -5.7552e+00 -6.1739e+00 -6.3252e+00 -1.6946e+00  1.3410e+00]\n",
            " [ 3.2227e+00  1.1687e+01  3.7222e+00 -1.6513e+00 -4.4140e+00 -5.9813e+00\n",
            "   1.5231e+01  1.3625e+01 -5.6880e+00  1.8987e+01 -1.7494e+01 -3.6247e+01\n",
            "  -1.2952e+01 -1.4948e+01  1.2247e+02  1.5652e+02  9.0141e+01  1.0064e+02\n",
            "   3.2240e+01  6.6435e+00  3.5850e+01  1.1078e+01 -6.9376e+00  7.6332e+00\n",
            "   1.2833e+01 -3.6775e+00 -1.2768e+01 -5.9350e+00 -3.5929e+00 -1.2555e+01\n",
            "  -4.9783e+00  6.2329e+00  1.6957e+00  8.3545e+00 -1.4392e+00 -1.6330e+01]\n",
            " [ 2.9645e+01 -4.9745e+00  4.9642e+01  5.1926e+01 -2.7717e+01 -2.3571e+01\n",
            "  -2.2833e+00 -6.5115e+00 -2.1360e+00  3.5399e+01 -3.4334e+01  3.8804e+01\n",
            "   2.5670e+02  1.4713e+02  1.1400e+01  1.7274e+01  9.9594e+00  7.9175e+00\n",
            "  -1.1040e+01  4.0734e+00  2.2169e+01  1.9438e+01 -4.2801e+01 -5.8085e+01\n",
            "   3.4110e+01  4.0234e+01  1.3559e+01  2.2366e+01 -2.4748e+01 -3.4215e+01\n",
            "   7.7464e+00 -5.8332e+00 -7.1757e-01  8.1616e+00 -2.9694e+01 -2.7570e+01]]\n"
          ]
        }
      ]
    },
    {
      "cell_type": "markdown",
      "source": [
        "###Cross check to make sure I am doing reshaping right. After reshaping:\n",
        "\n",
        "\n",
        "*   Number of rows stay the same: 3356\n",
        "*   Each row now is 2D array with dimensions (timeSteps = 6, features = 36).\n",
        "\n"
      ],
      "metadata": {
        "id": "wMoq1kw_QNLb"
      }
    },
    {
      "cell_type": "markdown",
      "source": [
        "###Reshaped train data - 11th observation, first feature."
      ],
      "metadata": {
        "id": "lyG4IOCTRCXf"
      }
    },
    {
      "cell_type": "code",
      "source": [
        "print('11th row/observation - 1st feature after reshape:')\n",
        "print(X[10][0])"
      ],
      "metadata": {
        "colab": {
          "base_uri": "https://localhost:8080/"
        },
        "id": "1IWBDle7CeZo",
        "outputId": "b14db7c1-da38-474a-f8a4-0f6a1ae3feec"
      },
      "execution_count": 12,
      "outputs": [
        {
          "output_type": "stream",
          "name": "stdout",
          "text": [
            "11th row/observation - 1st feature after reshape:\n",
            "[ 35.156    37.916    22.365    -2.7425  -19.273   -15.165     4.1297\n",
            "  21.102    23.534    15.606    10.884    15.96     23.544    21.575\n",
            "   7.0974  -10.497   -19.116   -15.278    -5.798     0.3977    0.90133\n",
            "   0.17239   2.4424    6.2794    7.5038    6.1431    7.3349   13.658\n",
            "  19.896    18.6      10.592     5.6807   10.812    20.476    22.537\n",
            "  12.863  ]\n"
          ]
        }
      ]
    },
    {
      "cell_type": "markdown",
      "source": [
        "###Original train data - 11th observation, first feature."
      ],
      "metadata": {
        "id": "mcwmHkaDR_SR"
      }
    },
    {
      "cell_type": "code",
      "source": [
        "sample_11th = trainData.iloc[10][:36]\n",
        "sample_11th = pd.DataFrame(sample_11th).transpose()\n",
        "print('11th row/observation - 1st feature before reshape:')\n",
        "sample_11th"
      ],
      "metadata": {
        "colab": {
          "base_uri": "https://localhost:8080/",
          "height": 129
        },
        "id": "lfMqFLdYR-oE",
        "outputId": "4756cf86-17e3-47da-8561-1cfd5027d8a0"
      },
      "execution_count": 13,
      "outputs": [
        {
          "output_type": "stream",
          "name": "stdout",
          "text": [
            "11th row/observation - 1st feature before reshape:\n"
          ]
        },
        {
          "output_type": "execute_result",
          "data": {
            "text/plain": [
              "     f-1-1   f-1-2   f-1-3   f-1-4   f-1-5   f-1-6   f-1-7   f-1-8   f-1-9  \\\n",
              "10  35.156  37.916  22.365 -2.7425 -19.273 -15.165  4.1297  21.102  23.534   \n",
              "\n",
              "    f-1-10  ...  f-1-27  f-1-28  f-1-29  f-1-30  f-1-31  f-1-32  f-1-33  \\\n",
              "10  15.606  ...  7.3349  13.658  19.896    18.6  10.592  5.6807  10.812   \n",
              "\n",
              "    f-1-34  f-1-35  f-1-36  \n",
              "10  20.476  22.537  12.863  \n",
              "\n",
              "[1 rows x 36 columns]"
            ],
            "text/html": [
              "\n",
              "  <div id=\"df-de60d18f-6f85-45b1-a624-fe817e8ea684\" class=\"colab-df-container\">\n",
              "    <div>\n",
              "<style scoped>\n",
              "    .dataframe tbody tr th:only-of-type {\n",
              "        vertical-align: middle;\n",
              "    }\n",
              "\n",
              "    .dataframe tbody tr th {\n",
              "        vertical-align: top;\n",
              "    }\n",
              "\n",
              "    .dataframe thead th {\n",
              "        text-align: right;\n",
              "    }\n",
              "</style>\n",
              "<table border=\"1\" class=\"dataframe\">\n",
              "  <thead>\n",
              "    <tr style=\"text-align: right;\">\n",
              "      <th></th>\n",
              "      <th>f-1-1</th>\n",
              "      <th>f-1-2</th>\n",
              "      <th>f-1-3</th>\n",
              "      <th>f-1-4</th>\n",
              "      <th>f-1-5</th>\n",
              "      <th>f-1-6</th>\n",
              "      <th>f-1-7</th>\n",
              "      <th>f-1-8</th>\n",
              "      <th>f-1-9</th>\n",
              "      <th>f-1-10</th>\n",
              "      <th>...</th>\n",
              "      <th>f-1-27</th>\n",
              "      <th>f-1-28</th>\n",
              "      <th>f-1-29</th>\n",
              "      <th>f-1-30</th>\n",
              "      <th>f-1-31</th>\n",
              "      <th>f-1-32</th>\n",
              "      <th>f-1-33</th>\n",
              "      <th>f-1-34</th>\n",
              "      <th>f-1-35</th>\n",
              "      <th>f-1-36</th>\n",
              "    </tr>\n",
              "  </thead>\n",
              "  <tbody>\n",
              "    <tr>\n",
              "      <th>10</th>\n",
              "      <td>35.156</td>\n",
              "      <td>37.916</td>\n",
              "      <td>22.365</td>\n",
              "      <td>-2.7425</td>\n",
              "      <td>-19.273</td>\n",
              "      <td>-15.165</td>\n",
              "      <td>4.1297</td>\n",
              "      <td>21.102</td>\n",
              "      <td>23.534</td>\n",
              "      <td>15.606</td>\n",
              "      <td>...</td>\n",
              "      <td>7.3349</td>\n",
              "      <td>13.658</td>\n",
              "      <td>19.896</td>\n",
              "      <td>18.6</td>\n",
              "      <td>10.592</td>\n",
              "      <td>5.6807</td>\n",
              "      <td>10.812</td>\n",
              "      <td>20.476</td>\n",
              "      <td>22.537</td>\n",
              "      <td>12.863</td>\n",
              "    </tr>\n",
              "  </tbody>\n",
              "</table>\n",
              "<p>1 rows × 36 columns</p>\n",
              "</div>\n",
              "    <div class=\"colab-df-buttons\">\n",
              "\n",
              "  <div class=\"colab-df-container\">\n",
              "    <button class=\"colab-df-convert\" onclick=\"convertToInteractive('df-de60d18f-6f85-45b1-a624-fe817e8ea684')\"\n",
              "            title=\"Convert this dataframe to an interactive table.\"\n",
              "            style=\"display:none;\">\n",
              "\n",
              "  <svg xmlns=\"http://www.w3.org/2000/svg\" height=\"24px\" viewBox=\"0 -960 960 960\">\n",
              "    <path d=\"M120-120v-720h720v720H120Zm60-500h600v-160H180v160Zm220 220h160v-160H400v160Zm0 220h160v-160H400v160ZM180-400h160v-160H180v160Zm440 0h160v-160H620v160ZM180-180h160v-160H180v160Zm440 0h160v-160H620v160Z\"/>\n",
              "  </svg>\n",
              "    </button>\n",
              "\n",
              "  <style>\n",
              "    .colab-df-container {\n",
              "      display:flex;\n",
              "      gap: 12px;\n",
              "    }\n",
              "\n",
              "    .colab-df-convert {\n",
              "      background-color: #E8F0FE;\n",
              "      border: none;\n",
              "      border-radius: 50%;\n",
              "      cursor: pointer;\n",
              "      display: none;\n",
              "      fill: #1967D2;\n",
              "      height: 32px;\n",
              "      padding: 0 0 0 0;\n",
              "      width: 32px;\n",
              "    }\n",
              "\n",
              "    .colab-df-convert:hover {\n",
              "      background-color: #E2EBFA;\n",
              "      box-shadow: 0px 1px 2px rgba(60, 64, 67, 0.3), 0px 1px 3px 1px rgba(60, 64, 67, 0.15);\n",
              "      fill: #174EA6;\n",
              "    }\n",
              "\n",
              "    .colab-df-buttons div {\n",
              "      margin-bottom: 4px;\n",
              "    }\n",
              "\n",
              "    [theme=dark] .colab-df-convert {\n",
              "      background-color: #3B4455;\n",
              "      fill: #D2E3FC;\n",
              "    }\n",
              "\n",
              "    [theme=dark] .colab-df-convert:hover {\n",
              "      background-color: #434B5C;\n",
              "      box-shadow: 0px 1px 3px 1px rgba(0, 0, 0, 0.15);\n",
              "      filter: drop-shadow(0px 1px 2px rgba(0, 0, 0, 0.3));\n",
              "      fill: #FFFFFF;\n",
              "    }\n",
              "  </style>\n",
              "\n",
              "    <script>\n",
              "      const buttonEl =\n",
              "        document.querySelector('#df-de60d18f-6f85-45b1-a624-fe817e8ea684 button.colab-df-convert');\n",
              "      buttonEl.style.display =\n",
              "        google.colab.kernel.accessAllowed ? 'block' : 'none';\n",
              "\n",
              "      async function convertToInteractive(key) {\n",
              "        const element = document.querySelector('#df-de60d18f-6f85-45b1-a624-fe817e8ea684');\n",
              "        const dataTable =\n",
              "          await google.colab.kernel.invokeFunction('convertToInteractive',\n",
              "                                                    [key], {});\n",
              "        if (!dataTable) return;\n",
              "\n",
              "        const docLinkHtml = 'Like what you see? Visit the ' +\n",
              "          '<a target=\"_blank\" href=https://colab.research.google.com/notebooks/data_table.ipynb>data table notebook</a>'\n",
              "          + ' to learn more about interactive tables.';\n",
              "        element.innerHTML = '';\n",
              "        dataTable['output_type'] = 'display_data';\n",
              "        await google.colab.output.renderOutput(dataTable, element);\n",
              "        const docLink = document.createElement('div');\n",
              "        docLink.innerHTML = docLinkHtml;\n",
              "        element.appendChild(docLink);\n",
              "      }\n",
              "    </script>\n",
              "  </div>\n",
              "\n",
              "    </div>\n",
              "  </div>\n"
            ]
          },
          "metadata": {},
          "execution_count": 13
        }
      ]
    },
    {
      "cell_type": "markdown",
      "source": [
        "###**Split the training data (with class imbalance): Train and Validation Sets.**\n",
        "####Given time series data, i.e., the sequence of rows is important. Splitting will be executed on row index, top down order.\n",
        "\n"
      ],
      "metadata": {
        "id": "QkrRcGADmySb"
      }
    },
    {
      "cell_type": "code",
      "source": [
        "#80% for training, 20% for validation.\n",
        "trainSize = 0.8\n",
        "trainIndex = int(len(X) * trainSize)\n",
        "\n",
        "xTrain, xValidation = X[:trainIndex], X[trainIndex:]\n",
        "targetTrain, targetValidation = target[:trainIndex], target[trainIndex:]\n",
        "\n",
        "print('After split:')\n",
        "print(\"X Train shape:\", xTrain.shape)\n",
        "print(\"Target Train shape:\", xValidation.shape)\n",
        "print(\"X Validation shape:\", targetTrain.shape)\n",
        "print(\"Target Validation shape:\", targetValidation.shape)"
      ],
      "metadata": {
        "colab": {
          "base_uri": "https://localhost:8080/"
        },
        "id": "NNkBMAG2wAKb",
        "outputId": "8a281516-accf-4027-b547-9766f1a62a29"
      },
      "execution_count": 14,
      "outputs": [
        {
          "output_type": "stream",
          "name": "stdout",
          "text": [
            "After split:\n",
            "X Train shape: (2684, 6, 36)\n",
            "Target Train shape: (672, 6, 36)\n",
            "X Validation shape: (2684, 1)\n",
            "Target Validation shape: (672, 1)\n"
          ]
        }
      ]
    },
    {
      "cell_type": "markdown",
      "source": [
        "####Check if all 10 'target' classes exist in both train and validation sets, after split. Somewhat same frequency dsitribution as well.\n"
      ],
      "metadata": {
        "id": "D7BaqJDplJCw"
      }
    },
    {
      "cell_type": "code",
      "source": [
        "#Get unique 'target' value count of each set.\n",
        "class_distributionTrain = pd.Series(targetTrain.flatten()).value_counts()\n",
        "class_distributionVal = pd.Series(targetValidation.flatten()).value_counts()\n",
        "\n",
        "#Calculate percentage for each 'target' class within training and validation sets.\n",
        "percTrain = (class_distributionTrain / class_distributionTrain.sum()) * 100\n",
        "percVal = (class_distributionVal / class_distributionVal.sum()) * 100\n",
        "\n",
        "class_distributionTrain_table = pd.DataFrame({\n",
        "    'Class': percTrain.index,\n",
        "    '% in Training Set': percTrain.values})\n",
        "\n",
        "class_distributionVal_table = pd.DataFrame({\n",
        "    'Class': percVal.index,\n",
        "    '% in Validation Set': percVal.values})\n",
        "\n",
        "class_distributionTrain_table = class_distributionTrain_table.set_index('Class').T.round(3).astype(float)\n",
        "class_distributionVal_table = class_distributionVal_table.set_index('Class').T.round(3).astype(float)\n",
        "\n",
        "print(\"Class Distribution in Training Set:\")\n",
        "class_distributionTrain_table"
      ],
      "metadata": {
        "colab": {
          "base_uri": "https://localhost:8080/",
          "height": 99
        },
        "id": "OTqcNN7PhkNl",
        "outputId": "d35d4d8b-ff0e-46c0-880e-d8c5e5e62aba"
      },
      "execution_count": 15,
      "outputs": [
        {
          "output_type": "stream",
          "name": "stdout",
          "text": [
            "Class Distribution in Training Set:\n"
          ]
        },
        {
          "output_type": "execute_result",
          "data": {
            "text/plain": [
              "Class                  8       2       5       1      4      0      7      9   \\\n",
              "% in Training Set  32.303  16.244  12.891  10.991  6.148  5.365  5.328  3.204   \n",
              "\n",
              "Class                 6      3      10  \n",
              "% in Training Set  2.906  2.571  2.049  "
            ],
            "text/html": [
              "\n",
              "  <div id=\"df-60658cc0-ce8c-415c-a850-ffd7218cdeb3\" class=\"colab-df-container\">\n",
              "    <div>\n",
              "<style scoped>\n",
              "    .dataframe tbody tr th:only-of-type {\n",
              "        vertical-align: middle;\n",
              "    }\n",
              "\n",
              "    .dataframe tbody tr th {\n",
              "        vertical-align: top;\n",
              "    }\n",
              "\n",
              "    .dataframe thead th {\n",
              "        text-align: right;\n",
              "    }\n",
              "</style>\n",
              "<table border=\"1\" class=\"dataframe\">\n",
              "  <thead>\n",
              "    <tr style=\"text-align: right;\">\n",
              "      <th>Class</th>\n",
              "      <th>8</th>\n",
              "      <th>2</th>\n",
              "      <th>5</th>\n",
              "      <th>1</th>\n",
              "      <th>4</th>\n",
              "      <th>0</th>\n",
              "      <th>7</th>\n",
              "      <th>9</th>\n",
              "      <th>6</th>\n",
              "      <th>3</th>\n",
              "      <th>10</th>\n",
              "    </tr>\n",
              "  </thead>\n",
              "  <tbody>\n",
              "    <tr>\n",
              "      <th>% in Training Set</th>\n",
              "      <td>32.303</td>\n",
              "      <td>16.244</td>\n",
              "      <td>12.891</td>\n",
              "      <td>10.991</td>\n",
              "      <td>6.148</td>\n",
              "      <td>5.365</td>\n",
              "      <td>5.328</td>\n",
              "      <td>3.204</td>\n",
              "      <td>2.906</td>\n",
              "      <td>2.571</td>\n",
              "      <td>2.049</td>\n",
              "    </tr>\n",
              "  </tbody>\n",
              "</table>\n",
              "</div>\n",
              "    <div class=\"colab-df-buttons\">\n",
              "\n",
              "  <div class=\"colab-df-container\">\n",
              "    <button class=\"colab-df-convert\" onclick=\"convertToInteractive('df-60658cc0-ce8c-415c-a850-ffd7218cdeb3')\"\n",
              "            title=\"Convert this dataframe to an interactive table.\"\n",
              "            style=\"display:none;\">\n",
              "\n",
              "  <svg xmlns=\"http://www.w3.org/2000/svg\" height=\"24px\" viewBox=\"0 -960 960 960\">\n",
              "    <path d=\"M120-120v-720h720v720H120Zm60-500h600v-160H180v160Zm220 220h160v-160H400v160Zm0 220h160v-160H400v160ZM180-400h160v-160H180v160Zm440 0h160v-160H620v160ZM180-180h160v-160H180v160Zm440 0h160v-160H620v160Z\"/>\n",
              "  </svg>\n",
              "    </button>\n",
              "\n",
              "  <style>\n",
              "    .colab-df-container {\n",
              "      display:flex;\n",
              "      gap: 12px;\n",
              "    }\n",
              "\n",
              "    .colab-df-convert {\n",
              "      background-color: #E8F0FE;\n",
              "      border: none;\n",
              "      border-radius: 50%;\n",
              "      cursor: pointer;\n",
              "      display: none;\n",
              "      fill: #1967D2;\n",
              "      height: 32px;\n",
              "      padding: 0 0 0 0;\n",
              "      width: 32px;\n",
              "    }\n",
              "\n",
              "    .colab-df-convert:hover {\n",
              "      background-color: #E2EBFA;\n",
              "      box-shadow: 0px 1px 2px rgba(60, 64, 67, 0.3), 0px 1px 3px 1px rgba(60, 64, 67, 0.15);\n",
              "      fill: #174EA6;\n",
              "    }\n",
              "\n",
              "    .colab-df-buttons div {\n",
              "      margin-bottom: 4px;\n",
              "    }\n",
              "\n",
              "    [theme=dark] .colab-df-convert {\n",
              "      background-color: #3B4455;\n",
              "      fill: #D2E3FC;\n",
              "    }\n",
              "\n",
              "    [theme=dark] .colab-df-convert:hover {\n",
              "      background-color: #434B5C;\n",
              "      box-shadow: 0px 1px 3px 1px rgba(0, 0, 0, 0.15);\n",
              "      filter: drop-shadow(0px 1px 2px rgba(0, 0, 0, 0.3));\n",
              "      fill: #FFFFFF;\n",
              "    }\n",
              "  </style>\n",
              "\n",
              "    <script>\n",
              "      const buttonEl =\n",
              "        document.querySelector('#df-60658cc0-ce8c-415c-a850-ffd7218cdeb3 button.colab-df-convert');\n",
              "      buttonEl.style.display =\n",
              "        google.colab.kernel.accessAllowed ? 'block' : 'none';\n",
              "\n",
              "      async function convertToInteractive(key) {\n",
              "        const element = document.querySelector('#df-60658cc0-ce8c-415c-a850-ffd7218cdeb3');\n",
              "        const dataTable =\n",
              "          await google.colab.kernel.invokeFunction('convertToInteractive',\n",
              "                                                    [key], {});\n",
              "        if (!dataTable) return;\n",
              "\n",
              "        const docLinkHtml = 'Like what you see? Visit the ' +\n",
              "          '<a target=\"_blank\" href=https://colab.research.google.com/notebooks/data_table.ipynb>data table notebook</a>'\n",
              "          + ' to learn more about interactive tables.';\n",
              "        element.innerHTML = '';\n",
              "        dataTable['output_type'] = 'display_data';\n",
              "        await google.colab.output.renderOutput(dataTable, element);\n",
              "        const docLink = document.createElement('div');\n",
              "        docLink.innerHTML = docLinkHtml;\n",
              "        element.appendChild(docLink);\n",
              "      }\n",
              "    </script>\n",
              "  </div>\n",
              "\n",
              "    </div>\n",
              "  </div>\n"
            ]
          },
          "metadata": {},
          "execution_count": 15
        }
      ]
    },
    {
      "cell_type": "code",
      "source": [
        "print(\"\\nClass Distribution in Validation Set:\")\n",
        "class_distributionVal_table"
      ],
      "metadata": {
        "colab": {
          "base_uri": "https://localhost:8080/",
          "height": 118
        },
        "id": "mvx-r7AXlEaU",
        "outputId": "a659a6b8-036f-44b2-d4a8-7e273645f5ae"
      },
      "execution_count": 16,
      "outputs": [
        {
          "output_type": "stream",
          "name": "stdout",
          "text": [
            "\n",
            "Class Distribution in Validation Set:\n"
          ]
        },
        {
          "output_type": "execute_result",
          "data": {
            "text/plain": [
              "Class                    8       2      5       1      4      0      7   \\\n",
              "% in Validation Set  32.887  14.583  13.69  12.351  7.292  4.315  3.869   \n",
              "\n",
              "Class                   9      3     6     10  \n",
              "% in Validation Set  3.274  2.679  2.53  2.53  "
            ],
            "text/html": [
              "\n",
              "  <div id=\"df-3ec3104d-7fe5-4c9e-a237-b6be9d73c6fd\" class=\"colab-df-container\">\n",
              "    <div>\n",
              "<style scoped>\n",
              "    .dataframe tbody tr th:only-of-type {\n",
              "        vertical-align: middle;\n",
              "    }\n",
              "\n",
              "    .dataframe tbody tr th {\n",
              "        vertical-align: top;\n",
              "    }\n",
              "\n",
              "    .dataframe thead th {\n",
              "        text-align: right;\n",
              "    }\n",
              "</style>\n",
              "<table border=\"1\" class=\"dataframe\">\n",
              "  <thead>\n",
              "    <tr style=\"text-align: right;\">\n",
              "      <th>Class</th>\n",
              "      <th>8</th>\n",
              "      <th>2</th>\n",
              "      <th>5</th>\n",
              "      <th>1</th>\n",
              "      <th>4</th>\n",
              "      <th>0</th>\n",
              "      <th>7</th>\n",
              "      <th>9</th>\n",
              "      <th>3</th>\n",
              "      <th>6</th>\n",
              "      <th>10</th>\n",
              "    </tr>\n",
              "  </thead>\n",
              "  <tbody>\n",
              "    <tr>\n",
              "      <th>% in Validation Set</th>\n",
              "      <td>32.887</td>\n",
              "      <td>14.583</td>\n",
              "      <td>13.69</td>\n",
              "      <td>12.351</td>\n",
              "      <td>7.292</td>\n",
              "      <td>4.315</td>\n",
              "      <td>3.869</td>\n",
              "      <td>3.274</td>\n",
              "      <td>2.679</td>\n",
              "      <td>2.53</td>\n",
              "      <td>2.53</td>\n",
              "    </tr>\n",
              "  </tbody>\n",
              "</table>\n",
              "</div>\n",
              "    <div class=\"colab-df-buttons\">\n",
              "\n",
              "  <div class=\"colab-df-container\">\n",
              "    <button class=\"colab-df-convert\" onclick=\"convertToInteractive('df-3ec3104d-7fe5-4c9e-a237-b6be9d73c6fd')\"\n",
              "            title=\"Convert this dataframe to an interactive table.\"\n",
              "            style=\"display:none;\">\n",
              "\n",
              "  <svg xmlns=\"http://www.w3.org/2000/svg\" height=\"24px\" viewBox=\"0 -960 960 960\">\n",
              "    <path d=\"M120-120v-720h720v720H120Zm60-500h600v-160H180v160Zm220 220h160v-160H400v160Zm0 220h160v-160H400v160ZM180-400h160v-160H180v160Zm440 0h160v-160H620v160ZM180-180h160v-160H180v160Zm440 0h160v-160H620v160Z\"/>\n",
              "  </svg>\n",
              "    </button>\n",
              "\n",
              "  <style>\n",
              "    .colab-df-container {\n",
              "      display:flex;\n",
              "      gap: 12px;\n",
              "    }\n",
              "\n",
              "    .colab-df-convert {\n",
              "      background-color: #E8F0FE;\n",
              "      border: none;\n",
              "      border-radius: 50%;\n",
              "      cursor: pointer;\n",
              "      display: none;\n",
              "      fill: #1967D2;\n",
              "      height: 32px;\n",
              "      padding: 0 0 0 0;\n",
              "      width: 32px;\n",
              "    }\n",
              "\n",
              "    .colab-df-convert:hover {\n",
              "      background-color: #E2EBFA;\n",
              "      box-shadow: 0px 1px 2px rgba(60, 64, 67, 0.3), 0px 1px 3px 1px rgba(60, 64, 67, 0.15);\n",
              "      fill: #174EA6;\n",
              "    }\n",
              "\n",
              "    .colab-df-buttons div {\n",
              "      margin-bottom: 4px;\n",
              "    }\n",
              "\n",
              "    [theme=dark] .colab-df-convert {\n",
              "      background-color: #3B4455;\n",
              "      fill: #D2E3FC;\n",
              "    }\n",
              "\n",
              "    [theme=dark] .colab-df-convert:hover {\n",
              "      background-color: #434B5C;\n",
              "      box-shadow: 0px 1px 3px 1px rgba(0, 0, 0, 0.15);\n",
              "      filter: drop-shadow(0px 1px 2px rgba(0, 0, 0, 0.3));\n",
              "      fill: #FFFFFF;\n",
              "    }\n",
              "  </style>\n",
              "\n",
              "    <script>\n",
              "      const buttonEl =\n",
              "        document.querySelector('#df-3ec3104d-7fe5-4c9e-a237-b6be9d73c6fd button.colab-df-convert');\n",
              "      buttonEl.style.display =\n",
              "        google.colab.kernel.accessAllowed ? 'block' : 'none';\n",
              "\n",
              "      async function convertToInteractive(key) {\n",
              "        const element = document.querySelector('#df-3ec3104d-7fe5-4c9e-a237-b6be9d73c6fd');\n",
              "        const dataTable =\n",
              "          await google.colab.kernel.invokeFunction('convertToInteractive',\n",
              "                                                    [key], {});\n",
              "        if (!dataTable) return;\n",
              "\n",
              "        const docLinkHtml = 'Like what you see? Visit the ' +\n",
              "          '<a target=\"_blank\" href=https://colab.research.google.com/notebooks/data_table.ipynb>data table notebook</a>'\n",
              "          + ' to learn more about interactive tables.';\n",
              "        element.innerHTML = '';\n",
              "        dataTable['output_type'] = 'display_data';\n",
              "        await google.colab.output.renderOutput(dataTable, element);\n",
              "        const docLink = document.createElement('div');\n",
              "        docLink.innerHTML = docLinkHtml;\n",
              "        element.appendChild(docLink);\n",
              "      }\n",
              "    </script>\n",
              "  </div>\n",
              "\n",
              "    </div>\n",
              "  </div>\n"
            ]
          },
          "metadata": {},
          "execution_count": 16
        }
      ]
    },
    {
      "cell_type": "markdown",
      "source": [
        "###**Further/Advanced Development: Data balancing.**\n",
        "####Apply Downsampling and Upweighting - Google Machine Learning reference."
      ],
      "metadata": {
        "id": "c_oywMGmphgB"
      }
    },
    {
      "cell_type": "markdown",
      "source": [
        "**Step 1: Downsample the majority classes.**"
      ],
      "metadata": {
        "id": "f33MbYW-qm4D"
      }
    },
    {
      "cell_type": "markdown",
      "source": [
        "From 'target' class distribution plot above, class 'c-90' has the most: 1088 counts, while class 'c-95' has the least of 72 counts. That is roughly 1 of 'c-95' to 15 of 'c-90'. Same logic apply to other classes in between. Given this, for 'c-90', apply downsampling by a factor of 10 to improve the balance now, 1 of 'c-95' to approximately 1.5 of 'c-90'. We will apply the same downsampling factor logic to other classes as well. Expecting afterward, each class has around 100 observations"
      ],
      "metadata": {
        "id": "tWRlIPUNrNfZ"
      }
    },
    {
      "cell_type": "code",
      "source": [
        "downsamplingFactors = {'c-90': 10, 'c-42': 5, 'c-65': 4, 'c-16': 3, 'c-62': 2, 'c-15': 2, 'c-88': 2, 'c-92': 1, 'c-67': 1, 'c-52': 1, 'c-95': 1}\n",
        "downsampledData_original = pd.DataFrame()\n",
        "for targetClass, factor in downsamplingFactors.items():\n",
        "    #Filter instances belonging to the current class.\n",
        "    classInstances = trainData_original[trainData_original['target'] == targetClass]\n",
        "\n",
        "    #Calculate the number of instances to keep after downsampling\n",
        "    numInstances_to_keep = len(classInstances) // factor\n",
        "    print(f'Target class: {targetClass} | Number of kept instance: {numInstances_to_keep}')\n",
        "\n",
        "    # Randomly sample instances from the current class\n",
        "    downsampledInstances = classInstances.sample(n=numInstances_to_keep, random_state=1997)\n",
        "\n",
        "    # Append the downsampled instances to the new DataFrame\n",
        "    downsampledData_original = pd.concat([downsampledData_original, downsampledInstances], ignore_index=True)\n",
        "\n",
        "# Display information about the downsampled dataset\n",
        "print(\"Original dataset shape:\", trainData_original.shape)\n",
        "print(\"Downsampled dataset shape:\", downsampledData_original.shape)"
      ],
      "metadata": {
        "colab": {
          "base_uri": "https://localhost:8080/"
        },
        "id": "hTdK3R3iwpz_",
        "outputId": "60d32b4a-c777-4ee4-afdd-777da90a54c0"
      },
      "execution_count": 17,
      "outputs": [
        {
          "output_type": "stream",
          "name": "stdout",
          "text": [
            "Target class: c-90 | Number of kept instance: 108\n",
            "Target class: c-42 | Number of kept instance: 106\n",
            "Target class: c-65 | Number of kept instance: 109\n",
            "Target class: c-16 | Number of kept instance: 126\n",
            "Target class: c-62 | Number of kept instance: 107\n",
            "Target class: c-15 | Number of kept instance: 86\n",
            "Target class: c-88 | Number of kept instance: 84\n",
            "Target class: c-92 | Number of kept instance: 108\n",
            "Target class: c-67 | Number of kept instance: 95\n",
            "Target class: c-52 | Number of kept instance: 87\n",
            "Target class: c-95 | Number of kept instance: 72\n",
            "Original dataset shape: (3356, 217)\n",
            "Downsampled dataset shape: (1088, 217)\n"
          ]
        }
      ]
    },
    {
      "cell_type": "markdown",
      "source": [
        "###**Plot the distribution of 'target' variable: After and Before Downsampling.**"
      ],
      "metadata": {
        "id": "eJOyqqSi0OaP"
      }
    },
    {
      "cell_type": "code",
      "source": [
        "downsampled_target_uniqueCounts = downsampledData_original['target'].value_counts()\n",
        "fig, axs = plt.subplots(1, 2, figsize=(12, 6))\n",
        "\n",
        "# Plot the downsampling bar plot in the first subplot\n",
        "axs[0].bar(downsampled_target_uniqueCounts.index, downsampled_target_uniqueCounts.values, color='darkorange')\n",
        "\n",
        "for i, v in enumerate(downsampled_target_uniqueCounts.values):\n",
        "    axs[0].text(i, v + 0.1, str(v), ha='center', va='bottom')\n",
        "\n",
        "axs[0].set_xlabel('Target Values')\n",
        "axs[0].set_ylabel('Frequency')\n",
        "axs[0].set_title('Frequency Count of Each Target Value (Downsampled)')\n",
        "\n",
        "# Plot the original bar plot in the second subplot\n",
        "axs[1].bar(target_uniqueCounts.index, target_uniqueCounts.values, color='palevioletred')\n",
        "\n",
        "for i, v in enumerate(target_uniqueCounts.values):\n",
        "    axs[1].text(i, v + 0.1, str(v), ha='center', va='bottom')\n",
        "\n",
        "axs[1].set_xlabel('Target Values')\n",
        "axs[1].set_ylabel('Frequency')\n",
        "axs[1].set_title('Frequency Count of Each Target Value (Original)')\n",
        "\n",
        "# Adjust layout to prevent overlapping\n",
        "plt.tight_layout()\n",
        "\n",
        "# Show the plot\n",
        "plt.show()\n"
      ],
      "metadata": {
        "colab": {
          "base_uri": "https://localhost:8080/",
          "height": 607
        },
        "id": "OqKqlxjWzUNR",
        "outputId": "2d9c97df-ec66-4c00-9fc1-3ccf2c05d81e"
      },
      "execution_count": 18,
      "outputs": [
        {
          "output_type": "display_data",
          "data": {
            "text/plain": [
              "<Figure size 1200x600 with 2 Axes>"
            ],
            "image/png": "[encoded data removed]"
          },
          "metadata": {}
        }
      ]
    },
    {
      "cell_type": "markdown",
      "source": [
        "**Step 2: Upweight the downsampled classes.**"
      ],
      "metadata": {
        "id": "bky2RZK4s1E-"
      }
    },
    {
      "cell_type": "markdown",
      "source": [
        "Since we downsampled class 'c-90' by a factor of 10, we will apply that factor as respective weight contribution to each instance of class 'c-90' during training. So each retained observations will now get higher improtance weight (originally 1). This compensates for the number of instances got taken out, ensuring that the model pays more attention to the instances that are still present. We will apply this during model fit using downsamplingFactors dictionary."
      ],
      "metadata": {
        "id": "XLBX-FJns6Zq"
      }
    },
    {
      "cell_type": "markdown",
      "source": [
        "###**Preprocess training data again using downsampled data.**\n",
        "####After downsampling data, we have 1088 observations for training."
      ],
      "metadata": {
        "id": "lRf4cwSV9Lr7"
      }
    },
    {
      "cell_type": "code",
      "source": [
        "#Shuffle downsample data so that all class observations does not stay in one chunk.\n",
        "from sklearn.utils import shuffle\n",
        "downsampledData_original = shuffle(downsampledData_original, random_state=1997).reset_index(drop=True)\n",
        "downsampledData_original.head()"
      ],
      "metadata": {
        "colab": {
          "base_uri": "https://localhost:8080/",
          "height": 235
        },
        "id": "eTsNWesK_dmP",
        "outputId": "cbfa63a8-1d03-4fd1-db9b-30acb17beddc"
      },
      "execution_count": 19,
      "outputs": [
        {
          "output_type": "execute_result",
          "data": {
            "text/plain": [
              "       f-1-1       f-1-2    f-1-3     f-1-4     f-1-5    f-1-6     f-1-7  \\\n",
              "0   14.22200   14.796000  11.6640    6.6927   0.85846  -5.2883   -9.6013   \n",
              "1   46.67800    0.058307 -24.4890   -1.6533 -20.84400 -12.5140    2.4956   \n",
              "2 -351.80000 -246.450000 -68.8870  115.9900 -17.90500  67.4700 -357.2100   \n",
              "3   35.43700   10.602000 -18.0880  -29.5470 -15.36200  12.6060   31.0430   \n",
              "4   -0.70748    2.801000  -2.9829  139.6100  37.87300  31.2210   30.6750   \n",
              "\n",
              "      f-1-8    f-1-9    f-1-10  ...    f-6-28    f-6-29    f-6-30   f-6-31  \\\n",
              "0   -8.6243  -1.4164    7.4397  ...   -37.630  -54.3150    51.063   38.795   \n",
              "1  -14.9210  30.5040   62.9210  ...    28.462  143.0900   107.700  144.880   \n",
              "2 -188.8200 -12.4270 -392.7500  ... -1202.400  259.5200 -1278.200 -955.660   \n",
              "3   23.1970  -8.3821  -44.3100  ...   -73.339  -86.0030   -80.154  -34.080   \n",
              "4   20.9410  15.6600   17.4350  ...    10.195   -7.3103   -42.859   10.855   \n",
              "\n",
              "      f-6-32     f-6-33     f-6-34    f-6-35     f-6-36  target  \n",
              "0   -13.5700     8.9185   -20.8350    9.9709    32.9330    c-90  \n",
              "1   197.4800   137.3100    12.4350  -62.4110   -47.0870    c-92  \n",
              "2 -1180.7000  1497.0000 -1250.1000  162.9500 -2004.4000    c-92  \n",
              "3    15.4100    25.1430     6.7423   -5.9423    -4.5425    c-42  \n",
              "4     8.5097    -3.7746    -1.4952    8.2995     7.4632    c-67  \n",
              "\n",
              "[5 rows x 217 columns]"
            ],
            "text/html": [
              "\n",
              "  <div id=\"df-97b5c213-a458-4916-894e-6a6aac66aad8\" class=\"colab-df-container\">\n",
              "    <div>\n",
              "<style scoped>\n",
              "    .dataframe tbody tr th:only-of-type {\n",
              "        vertical-align: middle;\n",
              "    }\n",
              "\n",
              "    .dataframe tbody tr th {\n",
              "        vertical-align: top;\n",
              "    }\n",
              "\n",
              "    .dataframe thead th {\n",
              "        text-align: right;\n",
              "    }\n",
              "</style>\n",
              "<table border=\"1\" class=\"dataframe\">\n",
              "  <thead>\n",
              "    <tr style=\"text-align: right;\">\n",
              "      <th></th>\n",
              "      <th>f-1-1</th>\n",
              "      <th>f-1-2</th>\n",
              "      <th>f-1-3</th>\n",
              "      <th>f-1-4</th>\n",
              "      <th>f-1-5</th>\n",
              "      <th>f-1-6</th>\n",
              "      <th>f-1-7</th>\n",
              "      <th>f-1-8</th>\n",
              "      <th>f-1-9</th>\n",
              "      <th>f-1-10</th>\n",
              "      <th>...</th>\n",
              "      <th>f-6-28</th>\n",
              "      <th>f-6-29</th>\n",
              "      <th>f-6-30</th>\n",
              "      <th>f-6-31</th>\n",
              "      <th>f-6-32</th>\n",
              "      <th>f-6-33</th>\n",
              "      <th>f-6-34</th>\n",
              "      <th>f-6-35</th>\n",
              "      <th>f-6-36</th>\n",
              "      <th>target</th>\n",
              "    </tr>\n",
              "  </thead>\n",
              "  <tbody>\n",
              "    <tr>\n",
              "      <th>0</th>\n",
              "      <td>14.22200</td>\n",
              "      <td>14.796000</td>\n",
              "      <td>11.6640</td>\n",
              "      <td>6.6927</td>\n",
              "      <td>0.85846</td>\n",
              "      <td>-5.2883</td>\n",
              "      <td>-9.6013</td>\n",
              "      <td>-8.6243</td>\n",
              "      <td>-1.4164</td>\n",
              "      <td>7.4397</td>\n",
              "      <td>...</td>\n",
              "      <td>-37.630</td>\n",
              "      <td>-54.3150</td>\n",
              "      <td>51.063</td>\n",
              "      <td>38.795</td>\n",
              "      <td>-13.5700</td>\n",
              "      <td>8.9185</td>\n",
              "      <td>-20.8350</td>\n",
              "      <td>9.9709</td>\n",
              "      <td>32.9330</td>\n",
              "      <td>c-90</td>\n",
              "    </tr>\n",
              "    <tr>\n",
              "      <th>1</th>\n",
              "      <td>46.67800</td>\n",
              "      <td>0.058307</td>\n",
              "      <td>-24.4890</td>\n",
              "      <td>-1.6533</td>\n",
              "      <td>-20.84400</td>\n",
              "      <td>-12.5140</td>\n",
              "      <td>2.4956</td>\n",
              "      <td>-14.9210</td>\n",
              "      <td>30.5040</td>\n",
              "      <td>62.9210</td>\n",
              "      <td>...</td>\n",
              "      <td>28.462</td>\n",
              "      <td>143.0900</td>\n",
              "      <td>107.700</td>\n",
              "      <td>144.880</td>\n",
              "      <td>197.4800</td>\n",
              "      <td>137.3100</td>\n",
              "      <td>12.4350</td>\n",
              "      <td>-62.4110</td>\n",
              "      <td>-47.0870</td>\n",
              "      <td>c-92</td>\n",
              "    </tr>\n",
              "    <tr>\n",
              "      <th>2</th>\n",
              "      <td>-351.80000</td>\n",
              "      <td>-246.450000</td>\n",
              "      <td>-68.8870</td>\n",
              "      <td>115.9900</td>\n",
              "      <td>-17.90500</td>\n",
              "      <td>67.4700</td>\n",
              "      <td>-357.2100</td>\n",
              "      <td>-188.8200</td>\n",
              "      <td>-12.4270</td>\n",
              "      <td>-392.7500</td>\n",
              "      <td>...</td>\n",
              "      <td>-1202.400</td>\n",
              "      <td>259.5200</td>\n",
              "      <td>-1278.200</td>\n",
              "      <td>-955.660</td>\n",
              "      <td>-1180.7000</td>\n",
              "      <td>1497.0000</td>\n",
              "      <td>-1250.1000</td>\n",
              "      <td>162.9500</td>\n",
              "      <td>-2004.4000</td>\n",
              "      <td>c-92</td>\n",
              "    </tr>\n",
              "    <tr>\n",
              "      <th>3</th>\n",
              "      <td>35.43700</td>\n",
              "      <td>10.602000</td>\n",
              "      <td>-18.0880</td>\n",
              "      <td>-29.5470</td>\n",
              "      <td>-15.36200</td>\n",
              "      <td>12.6060</td>\n",
              "      <td>31.0430</td>\n",
              "      <td>23.1970</td>\n",
              "      <td>-8.3821</td>\n",
              "      <td>-44.3100</td>\n",
              "      <td>...</td>\n",
              "      <td>-73.339</td>\n",
              "      <td>-86.0030</td>\n",
              "      <td>-80.154</td>\n",
              "      <td>-34.080</td>\n",
              "      <td>15.4100</td>\n",
              "      <td>25.1430</td>\n",
              "      <td>6.7423</td>\n",
              "      <td>-5.9423</td>\n",
              "      <td>-4.5425</td>\n",
              "      <td>c-42</td>\n",
              "    </tr>\n",
              "    <tr>\n",
              "      <th>4</th>\n",
              "      <td>-0.70748</td>\n",
              "      <td>2.801000</td>\n",
              "      <td>-2.9829</td>\n",
              "      <td>139.6100</td>\n",
              "      <td>37.87300</td>\n",
              "      <td>31.2210</td>\n",
              "      <td>30.6750</td>\n",
              "      <td>20.9410</td>\n",
              "      <td>15.6600</td>\n",
              "      <td>17.4350</td>\n",
              "      <td>...</td>\n",
              "      <td>10.195</td>\n",
              "      <td>-7.3103</td>\n",
              "      <td>-42.859</td>\n",
              "      <td>10.855</td>\n",
              "      <td>8.5097</td>\n",
              "      <td>-3.7746</td>\n",
              "      <td>-1.4952</td>\n",
              "      <td>8.2995</td>\n",
              "      <td>7.4632</td>\n",
              "      <td>c-67</td>\n",
              "    </tr>\n",
              "  </tbody>\n",
              "</table>\n",
              "<p>5 rows × 217 columns</p>\n",
              "</div>\n",
              "    <div class=\"colab-df-buttons\">\n",
              "\n",
              "  <div class=\"colab-df-container\">\n",
              "    <button class=\"colab-df-convert\" onclick=\"convertToInteractive('df-97b5c213-a458-4916-894e-6a6aac66aad8')\"\n",
              "            title=\"Convert this dataframe to an interactive table.\"\n",
              "            style=\"display:none;\">\n",
              "\n",
              "  <svg xmlns=\"http://www.w3.org/2000/svg\" height=\"24px\" viewBox=\"0 -960 960 960\">\n",
              "    <path d=\"M120-120v-720h720v720H120Zm60-500h600v-160H180v160Zm220 220h160v-160H400v160Zm0 220h160v-160H400v160ZM180-400h160v-160H180v160Zm440 0h160v-160H620v160ZM180-180h160v-160H180v160Zm440 0h160v-160H620v160Z\"/>\n",
              "  </svg>\n",
              "    </button>\n",
              "\n",
              "  <style>\n",
              "    .colab-df-container {\n",
              "      display:flex;\n",
              "      gap: 12px;\n",
              "    }\n",
              "\n",
              "    .colab-df-convert {\n",
              "      background-color: #E8F0FE;\n",
              "      border: none;\n",
              "      border-radius: 50%;\n",
              "      cursor: pointer;\n",
              "      display: none;\n",
              "      fill: #1967D2;\n",
              "      height: 32px;\n",
              "      padding: 0 0 0 0;\n",
              "      width: 32px;\n",
              "    }\n",
              "\n",
              "    .colab-df-convert:hover {\n",
              "      background-color: #E2EBFA;\n",
              "      box-shadow: 0px 1px 2px rgba(60, 64, 67, 0.3), 0px 1px 3px 1px rgba(60, 64, 67, 0.15);\n",
              "      fill: #174EA6;\n",
              "    }\n",
              "\n",
              "    .colab-df-buttons div {\n",
              "      margin-bottom: 4px;\n",
              "    }\n",
              "\n",
              "    [theme=dark] .colab-df-convert {\n",
              "      background-color: #3B4455;\n",
              "      fill: #D2E3FC;\n",
              "    }\n",
              "\n",
              "    [theme=dark] .colab-df-convert:hover {\n",
              "      background-color: #434B5C;\n",
              "      box-shadow: 0px 1px 3px 1px rgba(0, 0, 0, 0.15);\n",
              "      filter: drop-shadow(0px 1px 2px rgba(0, 0, 0, 0.3));\n",
              "      fill: #FFFFFF;\n",
              "    }\n",
              "  </style>\n",
              "\n",
              "    <script>\n",
              "      const buttonEl =\n",
              "        document.querySelector('#df-97b5c213-a458-4916-894e-6a6aac66aad8 button.colab-df-convert');\n",
              "      buttonEl.style.display =\n",
              "        google.colab.kernel.accessAllowed ? 'block' : 'none';\n",
              "\n",
              "      async function convertToInteractive(key) {\n",
              "        const element = document.querySelector('#df-97b5c213-a458-4916-894e-6a6aac66aad8');\n",
              "        const dataTable =\n",
              "          await google.colab.kernel.invokeFunction('convertToInteractive',\n",
              "                                                    [key], {});\n",
              "        if (!dataTable) return;\n",
              "\n",
              "        const docLinkHtml = 'Like what you see? Visit the ' +\n",
              "          '<a target=\"_blank\" href=https://colab.research.google.com/notebooks/data_table.ipynb>data table notebook</a>'\n",
              "          + ' to learn more about interactive tables.';\n",
              "        element.innerHTML = '';\n",
              "        dataTable['output_type'] = 'display_data';\n",
              "        await google.colab.output.renderOutput(dataTable, element);\n",
              "        const docLink = document.createElement('div');\n",
              "        docLink.innerHTML = docLinkHtml;\n",
              "        element.appendChild(docLink);\n",
              "      }\n",
              "    </script>\n",
              "  </div>\n",
              "\n",
              "\n",
              "<div id=\"df-df0757f5-f8f9-4e0b-bd15-497b06adc7bb\">\n",
              "  <button class=\"colab-df-quickchart\" onclick=\"quickchart('df-df0757f5-f8f9-4e0b-bd15-497b06adc7bb')\"\n",
              "            title=\"Suggest charts\"\n",
              "            style=\"display:none;\">\n",
              "\n",
              "<svg xmlns=\"http://www.w3.org/2000/svg\" height=\"24px\"viewBox=\"0 0 24 24\"\n",
              "     width=\"24px\">\n",
              "    <g>\n",
              "        <path d=\"M19 3H5c-1.1 0-2 .9-2 2v14c0 1.1.9 2 2 2h14c1.1 0 2-.9 2-2V5c0-1.1-.9-2-2-2zM9 17H7v-7h2v7zm4 0h-2V7h2v10zm4 0h-2v-4h2v4z\"/>\n",
              "    </g>\n",
              "</svg>\n",
              "  </button>\n",
              "\n",
              "<style>\n",
              "  .colab-df-quickchart {\n",
              "      --bg-color: #E8F0FE;\n",
              "      --fill-color: #1967D2;\n",
              "      --hover-bg-color: #E2EBFA;\n",
              "      --hover-fill-color: #174EA6;\n",
              "      --disabled-fill-color: #AAA;\n",
              "      --disabled-bg-color: #DDD;\n",
              "  }\n",
              "\n",
              "  [theme=dark] .colab-df-quickchart {\n",
              "      --bg-color: #3B4455;\n",
              "      --fill-color: #D2E3FC;\n",
              "      --hover-bg-color: #434B5C;\n",
              "      --hover-fill-color: #FFFFFF;\n",
              "      --disabled-bg-color: #3B4455;\n",
              "      --disabled-fill-color: #666;\n",
              "  }\n",
              "\n",
              "  .colab-df-quickchart {\n",
              "    background-color: var(--bg-color);\n",
              "    border: none;\n",
              "    border-radius: 50%;\n",
              "    cursor: pointer;\n",
              "    display: none;\n",
              "    fill: var(--fill-color);\n",
              "    height: 32px;\n",
              "    padding: 0;\n",
              "    width: 32px;\n",
              "  }\n",
              "\n",
              "  .colab-df-quickchart:hover {\n",
              "    background-color: var(--hover-bg-color);\n",
              "    box-shadow: 0 1px 2px rgba(60, 64, 67, 0.3), 0 1px 3px 1px rgba(60, 64, 67, 0.15);\n",
              "    fill: var(--button-hover-fill-color);\n",
              "  }\n",
              "\n",
              "  .colab-df-quickchart-complete:disabled,\n",
              "  .colab-df-quickchart-complete:disabled:hover {\n",
              "    background-color: var(--disabled-bg-color);\n",
              "    fill: var(--disabled-fill-color);\n",
              "    box-shadow: none;\n",
              "  }\n",
              "\n",
              "  .colab-df-spinner {\n",
              "    border: 2px solid var(--fill-color);\n",
              "    border-color: transparent;\n",
              "    border-bottom-color: var(--fill-color);\n",
              "    animation:\n",
              "      spin 1s steps(1) infinite;\n",
              "  }\n",
              "\n",
              "  @keyframes spin {\n",
              "    0% {\n",
              "      border-color: transparent;\n",
              "      border-bottom-color: var(--fill-color);\n",
              "      border-left-color: var(--fill-color);\n",
              "    }\n",
              "    20% {\n",
              "      border-color: transparent;\n",
              "      border-left-color: var(--fill-color);\n",
              "      border-top-color: var(--fill-color);\n",
              "    }\n",
              "    30% {\n",
              "      border-color: transparent;\n",
              "      border-left-color: var(--fill-color);\n",
              "      border-top-color: var(--fill-color);\n",
              "      border-right-color: var(--fill-color);\n",
              "    }\n",
              "    40% {\n",
              "      border-color: transparent;\n",
              "      border-right-color: var(--fill-color);\n",
              "      border-top-color: var(--fill-color);\n",
              "    }\n",
              "    60% {\n",
              "      border-color: transparent;\n",
              "      border-right-color: var(--fill-color);\n",
              "    }\n",
              "    80% {\n",
              "      border-color: transparent;\n",
              "      border-right-color: var(--fill-color);\n",
              "      border-bottom-color: var(--fill-color);\n",
              "    }\n",
              "    90% {\n",
              "      border-color: transparent;\n",
              "      border-bottom-color: var(--fill-color);\n",
              "    }\n",
              "  }\n",
              "</style>\n",
              "\n",
              "  <script>\n",
              "    async function quickchart(key) {\n",
              "      const quickchartButtonEl =\n",
              "        document.querySelector('#' + key + ' button');\n",
              "      quickchartButtonEl.disabled = true;  // To prevent multiple clicks.\n",
              "      quickchartButtonEl.classList.add('colab-df-spinner');\n",
              "      try {\n",
              "        const charts = await google.colab.kernel.invokeFunction(\n",
              "            'suggestCharts', [key], {});\n",
              "      } catch (error) {\n",
              "        console.error('Error during call to suggestCharts:', error);\n",
              "      }\n",
              "      quickchartButtonEl.classList.remove('colab-df-spinner');\n",
              "      quickchartButtonEl.classList.add('colab-df-quickchart-complete');\n",
              "    }\n",
              "    (() => {\n",
              "      let quickchartButtonEl =\n",
              "        document.querySelector('#df-df0757f5-f8f9-4e0b-bd15-497b06adc7bb button');\n",
              "      quickchartButtonEl.style.display =\n",
              "        google.colab.kernel.accessAllowed ? 'block' : 'none';\n",
              "    })();\n",
              "  </script>\n",
              "</div>\n",
              "    </div>\n",
              "  </div>\n"
            ]
          },
          "metadata": {},
          "execution_count": 19
        }
      ]
    },
    {
      "cell_type": "code",
      "source": [
        "downsampledTarget = downsampledData_original['target']\n",
        "#Get unique target values.\n",
        "downsampled_uniqueTargets = downsampledData_original['target'].unique()\n",
        "#Sort unique values and create a mapping. For example, 'c-15' --> 0, 'c-16' --> 1, and so on.\n",
        "downsampled_targetInteger = {target: index for index, target in enumerate(sorted(downsampled_uniqueTargets))}\n",
        "print(f'Target original values - converted integers: {downsampled_targetInteger}')\n",
        "#Replace with new integer values.\n",
        "downsampledTarget = downsampledTarget.map(downsampled_targetInteger)\n",
        "#Reshape the new integer-target column (to (-1, 1)) to ensure a numpy column vector/array.\n",
        "downsampledTarget = downsampledTarget.values.reshape(-1,1)\n",
        "print(f'Shape of downsample target columns: {downsampledTarget.shape}')\n",
        "print('Interger downsample target column:')\n",
        "print(downsampledTarget)"
      ],
      "metadata": {
        "colab": {
          "base_uri": "https://localhost:8080/"
        },
        "id": "Bz-AMPzY9FeF",
        "outputId": "c4481168-8ebb-4f06-dac7-e47decb47101"
      },
      "execution_count": 20,
      "outputs": [
        {
          "output_type": "stream",
          "name": "stdout",
          "text": [
            "Target original values - converted integers: {'c-15': 0, 'c-16': 1, 'c-42': 2, 'c-52': 3, 'c-62': 4, 'c-65': 5, 'c-67': 6, 'c-88': 7, 'c-90': 8, 'c-92': 9, 'c-95': 10}\n",
            "Shape of downsample target columns: (1088, 1)\n",
            "Interger downsample target column:\n",
            "[[8]\n",
            " [9]\n",
            " [9]\n",
            " ...\n",
            " [2]\n",
            " [5]\n",
            " [5]]\n"
          ]
        }
      ]
    },
    {
      "cell_type": "code",
      "source": [
        "downsampledData = downsampledData_original.drop(columns=['target'])\n",
        "#Reshape data.\n",
        "timeSteps = 6\n",
        "features = 36\n",
        "#Get Numpy representation of the training data.\n",
        "downsampled_X = downsampledData.values\n",
        "#Reshape the predictors.\n",
        "downsampled_X = downsampled_X.reshape(-1, timeSteps, features)\n",
        "print(f'Training data - after reshape: {downsampled_X.shape}')\n",
        "print(f'First row/observation shape: {downsampled_X[0].shape}')"
      ],
      "metadata": {
        "colab": {
          "base_uri": "https://localhost:8080/"
        },
        "id": "7ANBcpDcp3xD",
        "outputId": "6740a2dc-2225-44ab-eb53-0c7d324309a9"
      },
      "execution_count": 21,
      "outputs": [
        {
          "output_type": "stream",
          "name": "stdout",
          "text": [
            "Training data - after reshape: (1088, 6, 36)\n",
            "First row/observation shape: (6, 36)\n"
          ]
        }
      ]
    },
    {
      "cell_type": "code",
      "source": [
        "#80% for training, 20% for validation.\n",
        "trainSize = 0.8\n",
        "downsampled_trainIndex = int(len(downsampled_X) * trainSize)\n",
        "\n",
        "downsampled_xTrain, downsampled_xValidation = downsampled_X[:downsampled_trainIndex], downsampled_X[downsampled_trainIndex:]\n",
        "downsampled_targetTrain, downsampled_targetValidation = downsampledTarget[:downsampled_trainIndex], downsampledTarget[downsampled_trainIndex:]\n",
        "\n",
        "print('After split:')\n",
        "print(\"X Train shape:\", downsampled_xTrain.shape)\n",
        "print(\"Target Train shape:\", downsampled_xValidation.shape)\n",
        "print(\"X Validation shape:\", downsampled_targetTrain.shape)\n",
        "print(\"Target Validation shape:\", downsampled_targetValidation.shape)"
      ],
      "metadata": {
        "colab": {
          "base_uri": "https://localhost:8080/"
        },
        "id": "dq0KFhRMB3pQ",
        "outputId": "5bc69e3b-8374-43a6-eac2-1cde4e4332c6"
      },
      "execution_count": 22,
      "outputs": [
        {
          "output_type": "stream",
          "name": "stdout",
          "text": [
            "After split:\n",
            "X Train shape: (870, 6, 36)\n",
            "Target Train shape: (218, 6, 36)\n",
            "X Validation shape: (870, 1)\n",
            "Target Validation shape: (218, 1)\n"
          ]
        }
      ]
    },
    {
      "cell_type": "markdown",
      "source": [
        "###**Build the model.**\n",
        "###**1st model gives score 1.56173**"
      ],
      "metadata": {
        "id": "S4OOjkJseVH0"
      }
    },
    {
      "cell_type": "code",
      "source": [
        "#Set seed to get consistent results.\n",
        "tf.random.set_seed(1997)"
      ],
      "metadata": {
        "id": "X9aBfGWy3teL"
      },
      "execution_count": 23,
      "outputs": []
    },
    {
      "cell_type": "code",
      "source": [
        "#Get input shape.\n",
        "inputShape = xTrain.shape[1:]\n",
        "#Normalization to preprocess xTrain data before feeding to the model.\n",
        "normalizer = tf.keras.layers.Normalization()\n",
        "normalizer.adapt(xTrain)"
      ],
      "metadata": {
        "id": "ZrO-k8PEr7b8"
      },
      "execution_count": 24,
      "outputs": []
    },
    {
      "cell_type": "code",
      "source": [
        "#Sequential model\n",
        "model = keras.Sequential()\n",
        "#Add the normalization layer\n",
        "model.add(normalizer)\n",
        "\n",
        "#Bidirectional LSTM layer with 32 units.\n",
        "model.add(tf.keras.layers.Bidirectional(tf.keras.layers.LSTM(32, return_sequences=True), input_shape=inputShape))\n",
        "model.add(tf.keras.layers.Dropout(0.2))\n",
        "\n",
        "#Bidirectional GRU layer with 96 units.\n",
        "model.add(tf.keras.layers.Bidirectional(tf.keras.layers.GRU(96, return_sequences=True)))\n",
        "model.add(tf.keras.layers.Dropout(0.2))\n",
        "\n",
        "#SimpleRNN layer with 96 units.\n",
        "model.add(tf.keras.layers.SimpleRNN(96, return_sequences=True))\n",
        "model.add(tf.keras.layers.Dropout(0.2))\n",
        "\n",
        "#Bidirectional LSTM layer with 32 units.\n",
        "model.add(tf.keras.layers.Bidirectional(tf.keras.layers.LSTM(32)))\n",
        "\n",
        "model.add(keras.layers.Flatten())\n",
        "model.add(keras.layers.Dense(256, activation='relu'))\n",
        "model.add(keras.layers.Dropout(0.3))\n",
        "model.add(keras.layers.Dense(128, activation='relu'))\n",
        "model.add(keras.layers.Dropout(0.25))\n",
        "#Output layer with softmax activation for classification.\n",
        "model.add(tf.keras.layers.Dense(11, activation='softmax'))\n",
        "\n",
        "model.compile(optimizer=tf.optimizers.Adam(learning_rate=0.001), loss='sparse_categorical_crossentropy', metrics=['accuracy'])\n",
        "model.summary()"
      ],
      "metadata": {
        "colab": {
          "base_uri": "https://localhost:8080/"
        },
        "id": "raMPmNDHeiQK",
        "outputId": "581e30d4-7da6-4ef5-94f2-ee481cb0fc0b"
      },
      "execution_count": 25,
      "outputs": [
        {
          "output_type": "stream",
          "name": "stdout",
          "text": [
            "Model: \"sequential\"\n",
            "_________________________________________________________________\n",
            " Layer (type)                Output Shape              Param #   \n",
            "=================================================================\n",
            " normalization (Normalizati  (None, None, 36)          73        \n",
            " on)                                                             \n",
            "                                                                 \n",
            " bidirectional (Bidirection  (None, None, 64)          17664     \n",
            " al)                                                             \n",
            "                                                                 \n",
            " dropout (Dropout)           (None, None, 64)          0         \n",
            "                                                                 \n",
            " bidirectional_1 (Bidirecti  (None, None, 192)         93312     \n",
            " onal)                                                           \n",
            "                                                                 \n",
            " dropout_1 (Dropout)         (None, None, 192)         0         \n",
            "                                                                 \n",
            " simple_rnn (SimpleRNN)      (None, None, 96)          27744     \n",
            "                                                                 \n",
            " dropout_2 (Dropout)         (None, None, 96)          0         \n",
            "                                                                 \n",
            " bidirectional_2 (Bidirecti  (None, 64)                33024     \n",
            " onal)                                                           \n",
            "                                                                 \n",
            " flatten (Flatten)           (None, 64)                0         \n",
            "                                                                 \n",
            " dense (Dense)               (None, 256)               16640     \n",
            "                                                                 \n",
            " dropout_3 (Dropout)         (None, 256)               0         \n",
            "                                                                 \n",
            " dense_1 (Dense)             (None, 128)               32896     \n",
            "                                                                 \n",
            " dropout_4 (Dropout)         (None, 128)               0         \n",
            "                                                                 \n",
            " dense_2 (Dense)             (None, 11)                1419      \n",
            "                                                                 \n",
            "=================================================================\n",
            "Total params: 222772 (870.21 KB)\n",
            "Trainable params: 222699 (869.92 KB)\n",
            "Non-trainable params: 73 (296.00 Byte)\n",
            "_________________________________________________________________\n"
          ]
        }
      ]
    },
    {
      "cell_type": "code",
      "source": [
        "history = model.fit(xTrain, targetTrain, epochs=10, validation_data=(xValidation, targetValidation))"
      ],
      "metadata": {
        "colab": {
          "base_uri": "https://localhost:8080/"
        },
        "id": "3TnEVHTam6W0",
        "outputId": "dfb8e54b-0252-4755-ac19-bc5ab70c6c27"
      },
      "execution_count": 26,
      "outputs": [
        {
          "output_type": "stream",
          "name": "stdout",
          "text": [
            "Epoch 1/10\n",
            "84/84 [==============================] - 23s 69ms/step - loss: 2.0001 - accuracy: 0.3454 - val_loss: 1.7296 - val_accuracy: 0.4256\n",
            "Epoch 2/10\n",
            "84/84 [==============================] - 3s 34ms/step - loss: 1.7693 - accuracy: 0.3957 - val_loss: 1.6923 - val_accuracy: 0.4479\n",
            "Epoch 3/10\n",
            "84/84 [==============================] - 5s 57ms/step - loss: 1.7127 - accuracy: 0.4136 - val_loss: 1.6870 - val_accuracy: 0.4256\n",
            "Epoch 4/10\n",
            "84/84 [==============================] - 4s 49ms/step - loss: 1.7077 - accuracy: 0.4028 - val_loss: 1.6877 - val_accuracy: 0.4256\n",
            "Epoch 5/10\n",
            "84/84 [==============================] - 3s 33ms/step - loss: 1.6645 - accuracy: 0.4154 - val_loss: 1.6529 - val_accuracy: 0.4256\n",
            "Epoch 6/10\n",
            "84/84 [==============================] - 3s 33ms/step - loss: 1.5962 - accuracy: 0.4344 - val_loss: 1.6004 - val_accuracy: 0.4568\n",
            "Epoch 7/10\n",
            "84/84 [==============================] - 3s 34ms/step - loss: 1.5619 - accuracy: 0.4531 - val_loss: 1.5892 - val_accuracy: 0.4435\n",
            "Epoch 8/10\n",
            "84/84 [==============================] - 5s 57ms/step - loss: 1.5558 - accuracy: 0.4531 - val_loss: 1.5977 - val_accuracy: 0.4449\n",
            "Epoch 9/10\n",
            "84/84 [==============================] - 4s 49ms/step - loss: 1.5170 - accuracy: 0.4773 - val_loss: 1.5860 - val_accuracy: 0.4583\n",
            "Epoch 10/10\n",
            "84/84 [==============================] - 3s 35ms/step - loss: 1.4496 - accuracy: 0.5063 - val_loss: 1.4635 - val_accuracy: 0.5000\n"
          ]
        }
      ]
    },
    {
      "cell_type": "markdown",
      "source": [
        "###**1st Model Visualize training.**"
      ],
      "metadata": {
        "id": "pELqP80yuXdm"
      }
    },
    {
      "cell_type": "code",
      "source": [
        "trainAccuracy = history.history['accuracy']\n",
        "validationAccuracy = history.history['val_accuracy']\n",
        "\n",
        "trainLoss = history.history['loss']\n",
        "validationLoss = history.history['val_loss']\n",
        "\n",
        "epochsRange = range(len(trainAccuracy))\n",
        "\n",
        "plt.figure(figsize=(8, 8))\n",
        "plt.subplot(2, 1, 1)\n",
        "plt.plot(epochsRange, trainAccuracy, label='Training Accuracy')\n",
        "plt.plot(epochsRange, validationAccuracy, label='Validation Accuracy')\n",
        "plt.legend(loc='lower right')\n",
        "plt.title('Training and Validation Accuracy')\n",
        "\n",
        "plt.subplot(2, 1, 2)\n",
        "plt.plot(epochsRange, trainLoss, label='Training Loss')\n",
        "plt.plot(epochsRange, validationLoss, label='Validation Loss')\n",
        "plt.legend(loc='upper right')\n",
        "plt.title('Training and Validation Loss')\n",
        "plt.show()"
      ],
      "metadata": {
        "colab": {
          "base_uri": "https://localhost:8080/",
          "height": 699
        },
        "id": "_VdrvXuFuWXI",
        "outputId": "3ef53993-35e0-4c1a-c4ed-e44d0c1a729b"
      },
      "execution_count": 27,
      "outputs": [
        {
          "output_type": "display_data",
          "data": {
            "text/plain": [
              "<Figure size 800x800 with 2 Axes>"
            ],
            "image/png": "[encoded data removed]"
          },
          "metadata": {}
        }
      ]
    },
    {
      "cell_type": "markdown",
      "source": [
        "###**2nd model gives score 1.49**"
      ],
      "metadata": {
        "id": "ljThOpE6KEI-"
      }
    },
    {
      "cell_type": "code",
      "source": [
        "#Sequential model\n",
        "model1 = keras.Sequential()\n",
        "model1.add(normalizer)\n",
        "\n",
        "#Bidirectional LSTM layer with 512 units.\n",
        "model1.add(tf.keras.layers.Bidirectional(tf.keras.layers.LSTM(512, return_sequences=True), input_shape=inputShape))\n",
        "model1.add(tf.keras.layers.Dropout(0.1))\n",
        "\n",
        "#SimpleRNN layer with 64 units.\n",
        "model1.add(tf.keras.layers.SimpleRNN(64, return_sequences=True))\n",
        "model1.add(tf.keras.layers.Dropout(0.1))\n",
        "\n",
        "#Bidirectional GRU layer with 32 units.\n",
        "model1.add(tf.keras.layers.Bidirectional(tf.keras.layers.GRU(32, return_sequences=True)))\n",
        "model1.add(tf.keras.layers.Dropout(0.1))\n",
        "\n",
        "#SimpleRNN layer with 64 units.\n",
        "model1.add(tf.keras.layers.SimpleRNN(64, return_sequences=True))\n",
        "model.add(tf.keras.layers.Dropout(0.1))\n",
        "\n",
        "#LSTM layer with 512 units.\n",
        "model1.add(tf.keras.layers.LSTM(512))\n",
        "model1.add(tf.keras.layers.Dropout(0.1))\n",
        "\n",
        "model1.add(tf.keras.layers.Flatten())\n",
        "model1.add(tf.keras.layers.Dense(256, activation='relu'))\n",
        "model1.add(tf.keras.layers.Dropout(0.3))\n",
        "model1.add(tf.keras.layers.Dense(128, activation='relu'))\n",
        "model1.add(tf.keras.layers.Dropout(0.25))\n",
        "\n",
        "model1.add(tf.keras.layers.Dense(11, activation='softmax'))\n",
        "\n",
        "model1.compile(optimizer=tf.optimizers.Adam(learning_rate=0.001), loss='sparse_categorical_crossentropy', metrics=['accuracy'])\n",
        "model1.summary()"
      ],
      "metadata": {
        "colab": {
          "base_uri": "https://localhost:8080/"
        },
        "id": "ftc3iCWsiIB3",
        "outputId": "1ed538ea-76de-4ee4-9698-83a53b75be31"
      },
      "execution_count": 28,
      "outputs": [
        {
          "output_type": "stream",
          "name": "stdout",
          "text": [
            "Model: \"sequential_1\"\n",
            "_________________________________________________________________\n",
            " Layer (type)                Output Shape              Param #   \n",
            "=================================================================\n",
            " normalization (Normalizati  (None, None, 36)          73        \n",
            " on)                                                             \n",
            "                                                                 \n",
            " bidirectional_3 (Bidirecti  (None, None, 1024)        2248704   \n",
            " onal)                                                           \n",
            "                                                                 \n",
            " dropout_5 (Dropout)         (None, None, 1024)        0         \n",
            "                                                                 \n",
            " simple_rnn_1 (SimpleRNN)    (None, None, 64)          69696     \n",
            "                                                                 \n",
            " dropout_6 (Dropout)         (None, None, 64)          0         \n",
            "                                                                 \n",
            " bidirectional_4 (Bidirecti  (None, None, 64)          18816     \n",
            " onal)                                                           \n",
            "                                                                 \n",
            " dropout_7 (Dropout)         (None, None, 64)          0         \n",
            "                                                                 \n",
            " simple_rnn_2 (SimpleRNN)    (None, None, 64)          8256      \n",
            "                                                                 \n",
            " lstm_3 (LSTM)               (None, 512)               1181696   \n",
            "                                                                 \n",
            " dropout_9 (Dropout)         (None, 512)               0         \n",
            "                                                                 \n",
            " flatten_1 (Flatten)         (None, 512)               0         \n",
            "                                                                 \n",
            " dense_3 (Dense)             (None, 256)               131328    \n",
            "                                                                 \n",
            " dropout_10 (Dropout)        (None, 256)               0         \n",
            "                                                                 \n",
            " dense_4 (Dense)             (None, 128)               32896     \n",
            "                                                                 \n",
            " dropout_11 (Dropout)        (None, 128)               0         \n",
            "                                                                 \n",
            " dense_5 (Dense)             (None, 11)                1419      \n",
            "                                                                 \n",
            "=================================================================\n",
            "Total params: 3692884 (14.09 MB)\n",
            "Trainable params: 3692811 (14.09 MB)\n",
            "Non-trainable params: 73 (296.00 Byte)\n",
            "_________________________________________________________________\n"
          ]
        }
      ]
    },
    {
      "cell_type": "code",
      "source": [
        "history1 = model1.fit(xTrain, targetTrain, epochs=10, batch_size=16, validation_data=(xValidation, targetValidation))"
      ],
      "metadata": {
        "colab": {
          "base_uri": "https://localhost:8080/"
        },
        "id": "ZmUt7ElljJi_",
        "outputId": "ed2987b2-1e5b-46da-890a-ccfd222a6411"
      },
      "execution_count": 29,
      "outputs": [
        {
          "output_type": "stream",
          "name": "stdout",
          "text": [
            "Epoch 1/10\n",
            "168/168 [==============================] - 79s 375ms/step - loss: 1.9664 - accuracy: 0.3454 - val_loss: 1.8264 - val_accuracy: 0.3661\n",
            "Epoch 2/10\n",
            "168/168 [==============================] - 55s 325ms/step - loss: 1.8078 - accuracy: 0.3867 - val_loss: 1.7974 - val_accuracy: 0.3884\n",
            "Epoch 3/10\n",
            "168/168 [==============================] - 67s 400ms/step - loss: 1.6988 - accuracy: 0.4225 - val_loss: 1.5717 - val_accuracy: 0.4494\n",
            "Epoch 4/10\n",
            "168/168 [==============================] - 53s 315ms/step - loss: 1.6441 - accuracy: 0.4471 - val_loss: 1.5661 - val_accuracy: 0.4554\n",
            "Epoch 5/10\n",
            "168/168 [==============================] - 54s 324ms/step - loss: 1.5842 - accuracy: 0.4575 - val_loss: 1.4681 - val_accuracy: 0.4955\n",
            "Epoch 6/10\n",
            "168/168 [==============================] - 55s 329ms/step - loss: 1.5260 - accuracy: 0.4836 - val_loss: 1.4997 - val_accuracy: 0.4717\n",
            "Epoch 7/10\n",
            "168/168 [==============================] - 54s 324ms/step - loss: 1.4768 - accuracy: 0.5019 - val_loss: 1.4751 - val_accuracy: 0.4896\n",
            "Epoch 8/10\n",
            "168/168 [==============================] - 55s 327ms/step - loss: 1.4683 - accuracy: 0.4885 - val_loss: 1.4902 - val_accuracy: 0.4821\n",
            "Epoch 9/10\n",
            "168/168 [==============================] - 55s 325ms/step - loss: 1.4150 - accuracy: 0.5212 - val_loss: 1.5088 - val_accuracy: 0.4643\n",
            "Epoch 10/10\n",
            "168/168 [==============================] - 58s 348ms/step - loss: 1.3736 - accuracy: 0.5272 - val_loss: 1.3626 - val_accuracy: 0.5119\n"
          ]
        }
      ]
    },
    {
      "cell_type": "markdown",
      "source": [
        "###**2nd Model Visualize training. --> BEST MODEL**"
      ],
      "metadata": {
        "id": "DwoNMnZhRYoz"
      }
    },
    {
      "cell_type": "code",
      "source": [
        "trainAccuracy = history1.history['accuracy']\n",
        "validationAccuracy = history1.history['val_accuracy']\n",
        "\n",
        "trainLoss = history1.history['loss']\n",
        "validationLoss = history1.history['val_loss']\n",
        "\n",
        "epochsRange = range(len(trainAccuracy))\n",
        "\n",
        "plt.figure(figsize=(8, 8))\n",
        "plt.subplot(2, 1, 1)\n",
        "plt.plot(epochsRange, trainAccuracy, label='Training Accuracy')\n",
        "plt.plot(epochsRange, validationAccuracy, label='Validation Accuracy')\n",
        "plt.legend(loc='lower right')\n",
        "plt.title('Training and Validation Accuracy')\n",
        "\n",
        "plt.subplot(2, 1, 2)\n",
        "plt.plot(epochsRange, trainLoss, label='Training Loss')\n",
        "plt.plot(epochsRange, validationLoss, label='Validation Loss')\n",
        "plt.legend(loc='upper right')\n",
        "plt.title('Training and Validation Loss')\n",
        "plt.show()"
      ],
      "metadata": {
        "colab": {
          "base_uri": "https://localhost:8080/",
          "height": 699
        },
        "id": "tCyUYlChRYCy",
        "outputId": "3e711d5e-111c-4754-8462-5b4fb11c3db2"
      },
      "execution_count": 30,
      "outputs": [
        {
          "output_type": "display_data",
          "data": {
            "text/plain": [
              "<Figure size 800x800 with 2 Axes>"
            ],
            "image/png": "[encoded data removed]"
          },
          "metadata": {}
        }
      ]
    },
    {
      "cell_type": "markdown",
      "source": [
        "####**3rd model with Further/Advanced Development: Automatic Hyper parameters tuning.**"
      ],
      "metadata": {
        "id": "NSzwUNZ371yi"
      }
    },
    {
      "cell_type": "markdown",
      "source": [
        "####Train on down sampling data."
      ],
      "metadata": {
        "id": "hMTtK4ltIwXJ"
      }
    },
    {
      "cell_type": "code",
      "source": [
        "#Get input shape.\n",
        "downsampled_inputShape = downsampled_xTrain.shape[1:]\n",
        "#Normalization to preprocess xTrain data before feeding to the model.\n",
        "downsampled_normalizer = tf.keras.layers.Normalization()\n",
        "downsampled_normalizer.adapt(downsampled_xTrain)\n",
        "upWeight = {0: 2.0, 1: 3.0, 2: 5.0, 3: 1.0, 4: 2.0, 5: 4.0, 6: 1.0, 7: 2.0, 8: 10.0, 9: 1.0, 10: 1.0}\n",
        "\n",
        "#classInterger = {'c-15': 0, 'c-16': 1, 'c-42': 2, 'c-52': 3, 'c-62': 4, 'c-65': 5, 'c-67': 6, 'c-88': 7, 'c-90': 8, 'c-92': 9, 'c-95': 10}\n",
        "#downsamplingFactors = {'c-90': 10, 'c-42': 5, 'c-65': 4, 'c-16': 3, 'c-62': 2, 'c-15': 2, 'c-88': 2, 'c-92': 1, 'c-67': 1, 'c-52': 1, 'c-95': 1}"
      ],
      "metadata": {
        "id": "bX_k-bxKIzrR"
      },
      "execution_count": 31,
      "outputs": []
    },
    {
      "cell_type": "code",
      "source": [
        "!pip install keras-tuner"
      ],
      "metadata": {
        "colab": {
          "base_uri": "https://localhost:8080/"
        },
        "id": "TVMcgMqC8EuX",
        "outputId": "03a5fb26-6e35-496e-f9b4-a5daf6aa758b"
      },
      "execution_count": 32,
      "outputs": [
        {
          "output_type": "stream",
          "name": "stdout",
          "text": [
            "Collecting keras-tuner\n",
            "  Downloading keras_tuner-1.4.6-py3-none-any.whl (128 kB)\n",
            "\u001b[?25l     \u001b[90m━━━━━━━━━━━━━━━━━━━━━━━━━━━━━━━━━━━━━━━━\u001b[0m \u001b[32m0.0/128.9 kB\u001b[0m \u001b[31m?\u001b[0m eta \u001b[36m-:--:--\u001b[0m\r\u001b[2K     \u001b[91m━━━━━━━━━━━━━━━━━━━━━━\u001b[0m\u001b[90m╺\u001b[0m\u001b[90m━━━━━━━━━━━━━━━━━\u001b[0m \u001b[32m71.7/128.9 kB\u001b[0m \u001b[31m2.0 MB/s\u001b[0m eta \u001b[36m0:00:01\u001b[0m\r\u001b[2K     \u001b[90m━━━━━━━━━━━━━━━━━━━━━━━━━━━━━━━━━━━━━━━━\u001b[0m \u001b[32m128.9/128.9 kB\u001b[0m \u001b[31m2.5 MB/s\u001b[0m eta \u001b[36m0:00:00\u001b[0m\n",
            "\u001b[?25hRequirement already satisfied: keras in /usr/local/lib/python3.10/dist-packages (from keras-tuner) (2.14.0)\n",
            "Requirement already satisfied: packaging in /usr/local/lib/python3.10/dist-packages (from keras-tuner) (23.2)\n",
            "Requirement already satisfied: requests in /usr/local/lib/python3.10/dist-packages (from keras-tuner) (2.31.0)\n",
            "Collecting kt-legacy (from keras-tuner)\n",
            "  Downloading kt_legacy-1.0.5-py3-none-any.whl (9.6 kB)\n",
            "Requirement already satisfied: charset-normalizer<4,>=2 in /usr/local/lib/python3.10/dist-packages (from requests->keras-tuner) (3.3.2)\n",
            "Requirement already satisfied: idna<4,>=2.5 in /usr/local/lib/python3.10/dist-packages (from requests->keras-tuner) (3.4)\n",
            "Requirement already satisfied: urllib3<3,>=1.21.1 in /usr/local/lib/python3.10/dist-packages (from requests->keras-tuner) (2.0.7)\n",
            "Requirement already satisfied: certifi>=2017.4.17 in /usr/local/lib/python3.10/dist-packages (from requests->keras-tuner) (2023.7.22)\n",
            "Installing collected packages: kt-legacy, keras-tuner\n",
            "Successfully installed keras-tuner-1.4.6 kt-legacy-1.0.5\n"
          ]
        }
      ]
    },
    {
      "cell_type": "code",
      "source": [
        "#Using Keras Tuner\n",
        "from kerastuner.tuners import RandomSearch\n",
        "from kerastuner.engine.hyperparameters import HyperParameter"
      ],
      "metadata": {
        "id": "gafLYTvU77vP",
        "colab": {
          "base_uri": "https://localhost:8080/"
        },
        "outputId": "979cb1d5-cd7b-430b-a1fc-6c042e0c4f33"
      },
      "execution_count": 33,
      "outputs": [
        {
          "output_type": "stream",
          "name": "stderr",
          "text": [
            "<ipython-input-33-9a32dc6b6a04>:2: DeprecationWarning: `import kerastuner` is deprecated, please use `import keras_tuner`.\n",
            "  from kerastuner.tuners import RandomSearch\n"
          ]
        }
      ]
    },
    {
      "cell_type": "code",
      "source": [
        "def automatic_hyperModel(hp):\n",
        "    '''Function to apply automatic hyperparameters tuning using Keras Tuner.'''\n",
        "    model = keras.Sequential()\n",
        "    model.add(downsampled_normalizer)\n",
        "\n",
        "    #Stack recurrent layers.\n",
        "    model.add(keras.layers.Bidirectional(keras.layers.LSTM(hp.Int('lstm_filters', min_value=32, max_value=512, step=32), return_sequences=True, input_shape=downsampled_inputShape)))\n",
        "    model.add(keras.layers.SimpleRNN(hp.Int('rnn_filters', min_value=32, max_value=512, step=32), return_sequences=True))\n",
        "    model.add(keras.layers.LSTM(hp.Int('lstm_filters', min_value=32, max_value=512, step=32), return_sequences=True))\n",
        "    model.add(keras.layers.LSTM(hp.Int('lstm_filters', min_value=32, max_value=512, step=32)))\n",
        "    model.add(keras.layers.Dropout(0.2))\n",
        "\n",
        "    model.add(keras.layers.Flatten())\n",
        "    model.add(keras.layers.Dense(64, activation='relu'))\n",
        "    model.add(keras.layers.Dropout(0.2))\n",
        "    model.add(keras.layers.Dense(32, activation='relu'))\n",
        "    model.add(tf.keras.layers.Dense(11, activation='softmax'))\n",
        "\n",
        "    model.compile(optimizer=tf.optimizers.Adam(learning_rate=0.001), loss='sparse_categorical_crossentropy', metrics=['accuracy'])\n",
        "\n",
        "    return model\n",
        "\n",
        "#Initiate Keras Tuner.\n",
        "kerasTuner = RandomSearch(\n",
        "    automatic_hyperModel,\n",
        "    objective='val_accuracy',\n",
        "    max_trials=10,\n",
        "    directory='Hyperparameter_Tuning',\n",
        "    project_name='Auto_Tuning',\n",
        "    overwrite=True)\n",
        "\n",
        "#Perform hyperparameter search.\n",
        "kerasTuner.search(downsampled_xTrain, downsampled_targetTrain, epochs=10, batch_size=8, validation_data=(downsampled_xValidation, downsampled_targetValidation), class_weight = upWeight)\n",
        "\n",
        "#Get the best hyperparameters.\n",
        "bestHypers = kerasTuner.get_best_hyperparameters(num_trials=1)[0]\n",
        "#Build the model with the best hyperparameters.\n",
        "bestModel = kerasTuner.hypermodel.build(bestHypers)\n",
        "\n",
        "#Train the best model.\n",
        "bestModel.fit(downsampled_xTrain, downsampled_targetTrain, epochs=10, batch_size=8, validation_data=(downsampled_xValidation, downsampled_targetValidation), class_weight = upWeight)"
      ],
      "metadata": {
        "colab": {
          "base_uri": "https://localhost:8080/"
        },
        "id": "DjAuOZjL7_UU",
        "outputId": "577f6037-c4af-482f-964b-391d0201a8d8"
      },
      "execution_count": 34,
      "outputs": [
        {
          "output_type": "stream",
          "name": "stdout",
          "text": [
            "Trial 10 Complete [00h 01m 00s]\n",
            "val_accuracy: 0.1651376187801361\n",
            "\n",
            "Best val_accuracy So Far: 0.26146790385246277\n",
            "Total elapsed time: 00h 25m 26s\n",
            "Epoch 1/10\n",
            "109/109 [==============================] - 19s 73ms/step - loss: 6.6100 - accuracy: 0.1322 - val_loss: 2.4965 - val_accuracy: 0.1055\n",
            "Epoch 2/10\n",
            "109/109 [==============================] - 3s 32ms/step - loss: 5.9317 - accuracy: 0.1632 - val_loss: 2.3948 - val_accuracy: 0.1514\n",
            "Epoch 3/10\n",
            "109/109 [==============================] - 4s 34ms/step - loss: 5.7651 - accuracy: 0.2057 - val_loss: 2.4025 - val_accuracy: 0.1606\n",
            "Epoch 4/10\n",
            "109/109 [==============================] - 5s 44ms/step - loss: 5.7257 - accuracy: 0.2034 - val_loss: 2.3727 - val_accuracy: 0.1330\n",
            "Epoch 5/10\n",
            "109/109 [==============================] - 5s 46ms/step - loss: 5.5538 - accuracy: 0.2195 - val_loss: 2.4297 - val_accuracy: 0.2248\n",
            "Epoch 6/10\n",
            "109/109 [==============================] - 3s 32ms/step - loss: 5.6244 - accuracy: 0.2356 - val_loss: 2.4491 - val_accuracy: 0.1376\n",
            "Epoch 7/10\n",
            "109/109 [==============================] - 3s 31ms/step - loss: 5.7357 - accuracy: 0.2126 - val_loss: 2.3005 - val_accuracy: 0.1697\n",
            "Epoch 8/10\n",
            "109/109 [==============================] - 4s 39ms/step - loss: 5.5401 - accuracy: 0.2287 - val_loss: 2.2194 - val_accuracy: 0.1835\n",
            "Epoch 9/10\n",
            "109/109 [==============================] - 5s 46ms/step - loss: 5.4301 - accuracy: 0.2575 - val_loss: 2.2212 - val_accuracy: 0.2202\n",
            "Epoch 10/10\n",
            "109/109 [==============================] - 3s 32ms/step - loss: 5.3520 - accuracy: 0.2575 - val_loss: 2.1943 - val_accuracy: 0.2431\n"
          ]
        },
        {
          "output_type": "execute_result",
          "data": {
            "text/plain": [
              "<keras.src.callbacks.History at 0x7d0bb3d6a950>"
            ]
          },
          "metadata": {},
          "execution_count": 34
        }
      ]
    },
    {
      "cell_type": "code",
      "source": [
        "bestHPs = kerasTuner.get_best_hyperparameters()[0]\n",
        "print(f'Best hyper parameters combinations - using downsampled data: {bestHPs.values}')"
      ],
      "metadata": {
        "colab": {
          "base_uri": "https://localhost:8080/"
        },
        "id": "J01W5IoyBtlK",
        "outputId": "c4d810df-2326-4401-a270-bc3ae4c1a4f9"
      },
      "execution_count": 35,
      "outputs": [
        {
          "output_type": "stream",
          "name": "stdout",
          "text": [
            "Best hyper parameters combinations: {'lstm_filters': 128, 'rnn_filters': 96}\n"
          ]
        }
      ]
    },
    {
      "cell_type": "markdown",
      "source": [
        "###**Test set prediction.**\n",
        "####Reshaping."
      ],
      "metadata": {
        "id": "bL2BRn_8uyeG"
      }
    },
    {
      "cell_type": "code",
      "source": [
        "timeSteps = 6\n",
        "features = 36\n",
        "#Get Numpy representation of the training data.\n",
        "testValues = testData.values\n",
        "#Reshape the predictors.\n",
        "reshapedTest = testValues.reshape(-1, timeSteps, features)\n",
        "print(f'Testing data - after reshape: {reshapedTest.shape}')\n",
        "print(f'First row/observation shape: {reshapedTest[0].shape}')\n",
        "print('First row/observation after reshape:')\n",
        "print(reshapedTest[0])"
      ],
      "metadata": {
        "colab": {
          "base_uri": "https://localhost:8080/"
        },
        "id": "8efxyGvHu1gN",
        "outputId": "6bb9c0ae-a35e-47bf-fe48-9c793762175d"
      },
      "execution_count": 36,
      "outputs": [
        {
          "output_type": "stream",
          "name": "stdout",
          "text": [
            "Testing data - after reshape: (1439, 6, 36)\n",
            "First row/observation shape: (6, 36)\n",
            "First row/observation after reshape:\n",
            "[[ 2.5575e+01  2.5565e+01  6.8052e+00 -2.6012e+01 -5.5129e+01 -6.2075e+01\n",
            "  -4.3340e+01 -1.4265e+01  4.0360e+00  2.8128e+00 -8.5521e+00 -1.3780e+01\n",
            "  -5.8363e+00  7.8838e+00  1.4671e+01  9.1151e+00 -3.0461e+00 -1.1722e+01\n",
            "  -1.1658e+01 -5.3466e+00  1.5338e+00  6.3691e+00  1.1175e+01  1.8472e+01\n",
            "   2.6396e+01  2.8901e+01  2.1583e+01  7.1927e+00 -5.7160e+00 -1.0395e+01\n",
            "  -7.9049e+00 -5.0269e+00 -6.5418e+00 -1.0482e+01 -1.1175e+01 -6.4459e+00]\n",
            " [-1.4164e+01 -9.6159e+00 -1.6583e+00  4.1875e+00  4.8662e+00  2.0116e+00\n",
            "  -4.0022e-01 -1.0631e-01  1.8009e+00  2.8291e+00  1.9516e+00  2.1457e-01\n",
            "  -1.0081e+00 -1.5038e+00 -1.6574e+00 -1.0602e+00  1.2660e+00  4.8539e+00\n",
            "   6.7407e+00  3.7877e+00 -3.0299e+00 -6.8525e+00  1.3166e+00  2.5469e+01\n",
            "   5.9903e+01  9.1313e+01  1.0648e+02  9.9928e+01  7.6338e+01  4.6671e+01\n",
            "   2.1580e+01  6.5167e+00  8.6622e-01  4.8460e-01  1.1933e+00  9.6793e-01]\n",
            " [ 5.4926e+00 -2.4783e-01 -1.5951e+00  2.8016e-01 -1.7119e+00 -5.7986e-01\n",
            "  -2.5838e+00 -6.3095e+00  1.7812e+00  9.1471e+00  3.4049e+00 -3.0159e+00\n",
            "  -1.0554e+00  3.1099e+00  2.1749e+00 -3.4122e+00 -6.5779e+00 -1.7188e+00\n",
            "  -8.1016e-01 -2.8007e+00  5.2779e+00  5.2311e-01 -3.1479e+00  6.8447e+00\n",
            "  -1.5542e+01 -2.1322e+00  8.3537e+01  1.1289e+02  9.8656e+01  9.9109e+01\n",
            "   5.9689e+01  2.9747e+01  3.9869e+01  2.3913e+01  5.0196e+00  5.4111e+00]\n",
            " [-2.9258e+00 -1.7119e+00 -2.9325e+00 -4.7236e+00  2.1872e+00  1.2791e+01\n",
            "   9.8763e+00 -3.9623e+00 -9.1152e+00 -3.0397e+00 -1.0996e+00 -6.0149e+00\n",
            "  -3.1196e+00  6.6829e+00  3.7882e+00 -3.7509e+00  3.6966e+00  1.5579e+00\n",
            "  -1.4653e+01  1.8943e+01  1.0267e+02  1.4071e+02  1.1415e+02  9.9313e+01\n",
            "   1.1590e+02  1.2443e+02  1.1957e+02  1.1753e+02  1.1358e+02  1.0214e+02\n",
            "   9.0636e+01  7.7212e+01  5.7482e+01  4.5336e+01  4.1590e+01  2.4053e+01]\n",
            " [ 1.9560e+01  9.6083e+00 -3.0039e-01 -4.1552e+00 -1.1241e+01 -5.3914e+00\n",
            "   2.5580e+00 -6.4345e+00 -3.6073e+00  1.5903e+01  9.2903e+00 -1.2283e+01\n",
            "   1.8523e+00  2.8530e+01  1.6432e+01 -6.4109e+00  1.0370e+00  4.6652e+00\n",
            "  -1.4116e+01 -1.3859e+01 -5.1037e+00 -1.4934e+01 -6.2807e+00  8.6330e+00\n",
            "  -3.3812e-01  2.9533e+01  9.0592e+01  8.6396e+01  4.9186e+01  6.2545e+01\n",
            "   8.3694e+01  6.2618e+01  4.9746e+01  6.8483e+01  6.3280e+01  2.4535e+01]\n",
            " [ 5.9842e+01  3.3743e+01 -2.8795e+00 -2.2776e+01 -3.0478e+01 -1.4803e+00\n",
            "  -1.5505e+00 -2.2088e+01  1.3290e-01  4.8941e+00 -1.1345e+00  1.4561e+01\n",
            "   3.7058e+00 -5.0680e+00  2.3379e+00  1.8976e+00  1.7041e+01  7.6480e+00\n",
            "  -2.8085e+01 -7.1037e-01  5.9477e+01  6.1406e+01  3.4508e+00 -3.8799e+01\n",
            "   3.0426e+00  7.8227e+01  1.1496e+02  1.1637e+02  6.9054e+01  1.1825e+01\n",
            "   2.9596e+01  5.5145e+01  1.0701e+00 -3.1442e+01  2.0914e+01  3.9959e+01]]\n"
          ]
        }
      ]
    },
    {
      "cell_type": "markdown",
      "source": [
        "###Make prediction."
      ],
      "metadata": {
        "id": "ftA6eWaivXXl"
      }
    },
    {
      "cell_type": "code",
      "source": [
        "resultDict = {} #Dictionary to store predictions (keyed by row index)\n",
        "pred = model1.predict(reshapedTest)\n",
        "for i, prediction in enumerate(pred):\n",
        "  resultDict[i] = prediction\n",
        "print (f'Success, {len(resultDict)} test instances predicted.')"
      ],
      "metadata": {
        "colab": {
          "base_uri": "https://localhost:8080/"
        },
        "id": "9uaqQsB8vZzt",
        "outputId": "66a29bb5-697b-4378-8b8d-8623952fe33e"
      },
      "execution_count": 41,
      "outputs": [
        {
          "output_type": "stream",
          "name": "stdout",
          "text": [
            "45/45 [==============================] - 14s 111ms/step\n",
            "Success, 1439 test instances predicted.\n"
          ]
        }
      ]
    },
    {
      "cell_type": "markdown",
      "source": [
        "###**Write prediction to a CSV file.**"
      ],
      "metadata": {
        "id": "8eIVftpFxx_v"
      }
    },
    {
      "cell_type": "code",
      "source": [
        "import csv\n",
        "\n",
        "csvFile = 'Prediction.csv'\n",
        "with open(csvFile, 'w', newline='') as csvfile:\n",
        "    csvwriter = csv.writer(csvfile, delimiter=',')\n",
        "\n",
        "    #Write header.\n",
        "    columnNames = ['ID', 'c-15', 'c-16', 'c-42', 'c-52', 'c-62', 'c-65', 'c-67', 'c-88', 'c-90', 'c-92', 'c-95']\n",
        "    csvwriter.writerow(columnNames)\n",
        "\n",
        "    #Write each row as a list.\n",
        "    for rowIndex, prediction in resultDict.items():\n",
        "        row = [rowIndex] + [f'{num:.9f}' for num in prediction]\n",
        "        csvwriter.writerow(row)\n",
        "\n",
        "print(f'Predictions successfully saved to {csvFile}')"
      ],
      "metadata": {
        "colab": {
          "base_uri": "https://localhost:8080/"
        },
        "id": "WMj8kPwUxGgd",
        "outputId": "19ed3832-edc5-425d-c665-320347dc83c1"
      },
      "execution_count": 42,
      "outputs": [
        {
          "output_type": "stream",
          "name": "stdout",
          "text": [
            "Predictions successfully saved to Prediction.csv\n"
          ]
        }
      ]
    },
    {
      "cell_type": "code",
      "source": [],
      "metadata": {
        "id": "ARirIdykMfua"
      },
      "execution_count": 38,
      "outputs": []
    }
  ]
}